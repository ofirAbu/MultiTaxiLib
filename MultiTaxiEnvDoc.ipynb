{
 "cells": [
  {
   "cell_type": "markdown",
   "id": "5d6396a7",
   "metadata": {},
   "source": [
    "# Multi-Taxi Environment Demonstration\n",
    "## In the followin example we will demonstrate:\n",
    "1. Setting up the environment.\n",
    "2. The different formats of observations.\n",
    "3. Doc the adjustable parameters.\n",
    "4. Show how to change the reward table."
   ]
  },
  {
   "cell_type": "code",
   "execution_count": 1,
   "id": "f2003c0f",
   "metadata": {
    "scrolled": false
   },
   "outputs": [
    {
     "name": "stdout",
     "output_type": "stream",
     "text": [
      "Looking in indexes: https://test.pypi.org/simple/\n",
      "Requirement already satisfied: MultiTaxiLib==0.1.5 in /home/ofir/anaconda3/envs/test_lib_3.7/lib/python3.7/site-packages (0.1.5)\n",
      "Requirement already satisfied: ray[rllib] in /home/ofir/anaconda3/envs/test_lib_3.7/lib/python3.7/site-packages (from MultiTaxiLib==0.1.5) (1.10.0)\n",
      "Requirement already satisfied: gym in /home/ofir/anaconda3/envs/test_lib_3.7/lib/python3.7/site-packages (from MultiTaxiLib==0.1.5) (0.22.0)\n",
      "Requirement already satisfied: numpy in /home/ofir/anaconda3/envs/test_lib_3.7/lib/python3.7/site-packages (from MultiTaxiLib==0.1.5) (1.21.5)\n",
      "Requirement already satisfied: cloudpickle>=1.2.0 in /home/ofir/anaconda3/envs/test_lib_3.7/lib/python3.7/site-packages (from gym->MultiTaxiLib==0.1.5) (2.0.0)\n",
      "Requirement already satisfied: gym-notices>=0.0.4 in /home/ofir/anaconda3/envs/test_lib_3.7/lib/python3.7/site-packages (from gym->MultiTaxiLib==0.1.5) (0.0.4)\n",
      "Requirement already satisfied: importlib-metadata>=4.10.0 in /home/ofir/anaconda3/envs/test_lib_3.7/lib/python3.7/site-packages (from gym->MultiTaxiLib==0.1.5) (4.11.1)\n",
      "Requirement already satisfied: zipp>=0.5 in /home/ofir/anaconda3/envs/test_lib_3.7/lib/python3.7/site-packages (from importlib-metadata>=4.10.0->gym->MultiTaxiLib==0.1.5) (3.7.0)\n",
      "Requirement already satisfied: typing-extensions>=3.6.4 in /home/ofir/anaconda3/envs/test_lib_3.7/lib/python3.7/site-packages (from importlib-metadata>=4.10.0->gym->MultiTaxiLib==0.1.5) (4.1.1)\n",
      "Requirement already satisfied: grpcio>=1.28.1 in /home/ofir/anaconda3/envs/test_lib_3.7/lib/python3.7/site-packages (from ray[rllib]->MultiTaxiLib==0.1.5) (1.44.0)\n",
      "Requirement already satisfied: protobuf>=3.15.3 in /home/ofir/anaconda3/envs/test_lib_3.7/lib/python3.7/site-packages (from ray[rllib]->MultiTaxiLib==0.1.5) (3.19.4)\n",
      "Requirement already satisfied: redis>=3.5.0 in /home/ofir/anaconda3/envs/test_lib_3.7/lib/python3.7/site-packages (from ray[rllib]->MultiTaxiLib==0.1.5) (4.1.4)\n",
      "Requirement already satisfied: filelock in /home/ofir/anaconda3/envs/test_lib_3.7/lib/python3.7/site-packages (from ray[rllib]->MultiTaxiLib==0.1.5) (3.6.0)\n",
      "Requirement already satisfied: attrs in /home/ofir/anaconda3/envs/test_lib_3.7/lib/python3.7/site-packages (from ray[rllib]->MultiTaxiLib==0.1.5) (21.4.0)\n",
      "Requirement already satisfied: msgpack<2.0.0,>=1.0.0 in /home/ofir/anaconda3/envs/test_lib_3.7/lib/python3.7/site-packages (from ray[rllib]->MultiTaxiLib==0.1.5) (1.0.3)\n",
      "Requirement already satisfied: click>=7.0 in /home/ofir/anaconda3/envs/test_lib_3.7/lib/python3.7/site-packages (from ray[rllib]->MultiTaxiLib==0.1.5) (8.0.4)\n",
      "Requirement already satisfied: jsonschema in /home/ofir/anaconda3/envs/test_lib_3.7/lib/python3.7/site-packages (from ray[rllib]->MultiTaxiLib==0.1.5) (4.4.0)\n",
      "Requirement already satisfied: pyyaml in /home/ofir/anaconda3/envs/test_lib_3.7/lib/python3.7/site-packages (from ray[rllib]->MultiTaxiLib==0.1.5) (6.0)\n",
      "Requirement already satisfied: lz4 in /home/ofir/anaconda3/envs/test_lib_3.7/lib/python3.7/site-packages (from ray[rllib]->MultiTaxiLib==0.1.5) (4.0.0)\n",
      "Requirement already satisfied: dm-tree in /home/ofir/anaconda3/envs/test_lib_3.7/lib/python3.7/site-packages (from ray[rllib]->MultiTaxiLib==0.1.5) (0.1.6)\n",
      "Requirement already satisfied: matplotlib!=3.4.3 in /home/ofir/anaconda3/envs/test_lib_3.7/lib/python3.7/site-packages (from ray[rllib]->MultiTaxiLib==0.1.5) (3.5.1)\n",
      "Requirement already satisfied: requests in /home/ofir/anaconda3/envs/test_lib_3.7/lib/python3.7/site-packages (from ray[rllib]->MultiTaxiLib==0.1.5) (2.27.1)\n",
      "Requirement already satisfied: pandas in /home/ofir/anaconda3/envs/test_lib_3.7/lib/python3.7/site-packages (from ray[rllib]->MultiTaxiLib==0.1.5) (1.3.5)\n",
      "Requirement already satisfied: tabulate in /home/ofir/anaconda3/envs/test_lib_3.7/lib/python3.7/site-packages (from ray[rllib]->MultiTaxiLib==0.1.5) (0.8.9)\n",
      "Requirement already satisfied: tensorboardX>=1.9 in /home/ofir/anaconda3/envs/test_lib_3.7/lib/python3.7/site-packages (from ray[rllib]->MultiTaxiLib==0.1.5) (2.5)\n",
      "Requirement already satisfied: scipy in /home/ofir/anaconda3/envs/test_lib_3.7/lib/python3.7/site-packages (from ray[rllib]->MultiTaxiLib==0.1.5) (1.7.3)\n",
      "Requirement already satisfied: scikit-image in /home/ofir/anaconda3/envs/test_lib_3.7/lib/python3.7/site-packages (from ray[rllib]->MultiTaxiLib==0.1.5) (0.19.2)\n",
      "Requirement already satisfied: six>=1.5.2 in /home/ofir/anaconda3/envs/test_lib_3.7/lib/python3.7/site-packages (from grpcio>=1.28.1->ray[rllib]->MultiTaxiLib==0.1.5) (1.16.0)\n",
      "Requirement already satisfied: pyparsing>=2.2.1 in /home/ofir/anaconda3/envs/test_lib_3.7/lib/python3.7/site-packages (from matplotlib!=3.4.3->ray[rllib]->MultiTaxiLib==0.1.5) (3.0.7)\n",
      "Requirement already satisfied: python-dateutil>=2.7 in /home/ofir/anaconda3/envs/test_lib_3.7/lib/python3.7/site-packages (from matplotlib!=3.4.3->ray[rllib]->MultiTaxiLib==0.1.5) (2.8.2)\n",
      "Requirement already satisfied: pillow>=6.2.0 in /home/ofir/anaconda3/envs/test_lib_3.7/lib/python3.7/site-packages (from matplotlib!=3.4.3->ray[rllib]->MultiTaxiLib==0.1.5) (9.0.1)\n",
      "Requirement already satisfied: packaging>=20.0 in /home/ofir/anaconda3/envs/test_lib_3.7/lib/python3.7/site-packages (from matplotlib!=3.4.3->ray[rllib]->MultiTaxiLib==0.1.5) (21.3)\n",
      "Requirement already satisfied: fonttools>=4.22.0 in /home/ofir/anaconda3/envs/test_lib_3.7/lib/python3.7/site-packages (from matplotlib!=3.4.3->ray[rllib]->MultiTaxiLib==0.1.5) (4.29.1)\n",
      "Requirement already satisfied: cycler>=0.10 in /home/ofir/anaconda3/envs/test_lib_3.7/lib/python3.7/site-packages (from matplotlib!=3.4.3->ray[rllib]->MultiTaxiLib==0.1.5) (0.11.0)\n",
      "Requirement already satisfied: kiwisolver>=1.0.1 in /home/ofir/anaconda3/envs/test_lib_3.7/lib/python3.7/site-packages (from matplotlib!=3.4.3->ray[rllib]->MultiTaxiLib==0.1.5) (1.3.2)\n",
      "Requirement already satisfied: deprecated>=1.2.3 in /home/ofir/anaconda3/envs/test_lib_3.7/lib/python3.7/site-packages (from redis>=3.5.0->ray[rllib]->MultiTaxiLib==0.1.5) (1.2.13)\n",
      "Requirement already satisfied: wrapt<2,>=1.10 in /home/ofir/anaconda3/envs/test_lib_3.7/lib/python3.7/site-packages (from deprecated>=1.2.3->redis>=3.5.0->ray[rllib]->MultiTaxiLib==0.1.5) (1.13.3)\n",
      "Requirement already satisfied: importlib-resources>=1.4.0 in /home/ofir/anaconda3/envs/test_lib_3.7/lib/python3.7/site-packages (from jsonschema->ray[rllib]->MultiTaxiLib==0.1.5) (5.4.0)\n",
      "Requirement already satisfied: pyrsistent!=0.17.0,!=0.17.1,!=0.17.2,>=0.14.0 in /home/ofir/anaconda3/envs/test_lib_3.7/lib/python3.7/site-packages (from jsonschema->ray[rllib]->MultiTaxiLib==0.1.5) (0.18.1)\n",
      "Requirement already satisfied: pytz>=2017.3 in /home/ofir/anaconda3/envs/test_lib_3.7/lib/python3.7/site-packages (from pandas->ray[rllib]->MultiTaxiLib==0.1.5) (2021.3)\n",
      "Requirement already satisfied: charset-normalizer~=2.0.0 in /home/ofir/anaconda3/envs/test_lib_3.7/lib/python3.7/site-packages (from requests->ray[rllib]->MultiTaxiLib==0.1.5) (2.0.12)\n",
      "Requirement already satisfied: idna<4,>=2.5 in /home/ofir/anaconda3/envs/test_lib_3.7/lib/python3.7/site-packages (from requests->ray[rllib]->MultiTaxiLib==0.1.5) (3.3)\n",
      "Requirement already satisfied: certifi>=2017.4.17 in /home/ofir/anaconda3/envs/test_lib_3.7/lib/python3.7/site-packages (from requests->ray[rllib]->MultiTaxiLib==0.1.5) (2021.10.8)\n",
      "Requirement already satisfied: urllib3<1.27,>=1.21.1 in /home/ofir/anaconda3/envs/test_lib_3.7/lib/python3.7/site-packages (from requests->ray[rllib]->MultiTaxiLib==0.1.5) (1.26.8)\n",
      "Requirement already satisfied: tifffile>=2019.7.26 in /home/ofir/anaconda3/envs/test_lib_3.7/lib/python3.7/site-packages (from scikit-image->ray[rllib]->MultiTaxiLib==0.1.5) (2021.11.2)\n",
      "Requirement already satisfied: PyWavelets>=1.1.1 in /home/ofir/anaconda3/envs/test_lib_3.7/lib/python3.7/site-packages (from scikit-image->ray[rllib]->MultiTaxiLib==0.1.5) (1.2.0)\n",
      "Requirement already satisfied: imageio>=2.4.1 in /home/ofir/anaconda3/envs/test_lib_3.7/lib/python3.7/site-packages (from scikit-image->ray[rllib]->MultiTaxiLib==0.1.5) (2.16.0)\n",
      "Requirement already satisfied: networkx>=2.2 in /home/ofir/anaconda3/envs/test_lib_3.7/lib/python3.7/site-packages (from scikit-image->ray[rllib]->MultiTaxiLib==0.1.5) (2.6.3)\n"
     ]
    }
   ],
   "source": [
    "# installing easily via pip\n",
    "!pip install -i https://test.pypi.org/simple/ MultiTaxiLib==0.1.5"
   ]
  },
  {
   "cell_type": "code",
   "execution_count": 2,
   "id": "8a1c70a6",
   "metadata": {
    "scrolled": false
   },
   "outputs": [
    {
     "name": "stderr",
     "output_type": "stream",
     "text": [
      "\n"
     ]
    }
   ],
   "source": [
    "from MultiTaxiLib.taxi_environment import TaxiEnv\n",
    "import matplotlib.pyplot as plt"
   ]
  },
  {
   "cell_type": "code",
   "execution_count": 3,
   "id": "1dafd282",
   "metadata": {},
   "outputs": [],
   "source": [
    "env_instance = TaxiEnv()"
   ]
  },
  {
   "cell_type": "markdown",
   "id": "2786ed22",
   "metadata": {},
   "source": [
    "### Observations\n",
    "The observations returned as a dictionary with the keys being \"taxi_{i}\", such that each item is the observation of agent \"i\", starting with i=1.\n",
    "\n",
    "An observation could be either an image, which is a window of sight for the agent, or a sybolic vector consists of: <code>[\n",
    "            taxi_row, taxi_col, taxi_fuel, \n",
    "            passenger1_row, passenger1_col... passenger_n_row, passenger_n_col,\n",
    "            passenger1_dest_row, passenger1_dest_col... passenger_n_dest_row, passenger_n_dest_col,\n",
    "            passenger1_status... passenger_n_status\n",
    "        ]</code>"
   ]
  },
  {
   "cell_type": "code",
   "execution_count": 4,
   "id": "57efb548",
   "metadata": {},
   "outputs": [
    {
     "name": "stdout",
     "output_type": "stream",
     "text": [
      "Symbolic Vector Observation no others:\n",
      "[0 4 0 0 0 4 0 2]\n",
      "Symbolic Vector Observation with others:\n",
      "[4 4 0 0 0 4 4 4 0 2]\n",
      "Image Observation:\n"
     ]
    },
    {
     "data": {
      "image/png": "[encoded data removed]",
      "text/plain": [
       "<Figure size 432x288 with 1 Axes>"
      ]
     },
     "metadata": {
      "needs_background": "light"
     },
     "output_type": "display_data"
    },
    {
     "data": {
      "image/png": "[encoded data removed]",
      "text/plain": [
       "<Figure size 432x288 with 1 Axes>"
      ]
     },
     "metadata": {
      "needs_background": "light"
     },
     "output_type": "display_data"
    }
   ],
   "source": [
    "env_instance_image_obs = TaxiEnv(num_taxis=2, observation_type='image')\n",
    "env_instance_symbolic_obs_no_others = TaxiEnv(num_taxis=2, observation_type='symbolic', can_see_others=False)\n",
    "env_instance_symbolic_obs_with_others = TaxiEnv(num_taxis=2, observation_type='symbolic', can_see_others=True)\n",
    "\n",
    "print(f\"Symbolic Vector Observation no others:\\n{env_instance_symbolic_obs_no_others.reset()['taxi_1']}\")\n",
    "print(f\"Symbolic Vector Observation with others:\\n{env_instance_symbolic_obs_with_others.reset()['taxi_1']}\")\n",
    "print(\"Image Observation:\")\n",
    "plt.imshow(env_instance_image_obs.reset()['taxi_1'])\n",
    "plt.show()\n",
    "plt.imshow(env_instance_image_obs.reset()['taxi_2'])\n",
    "plt.show()"
   ]
  },
  {
   "cell_type": "markdown",
   "id": "d0d75bd9",
   "metadata": {},
   "source": [
    "__Note:__ In image observations, fuel and gas station will have distinct colors (pink and purple), and passengers current locations and destinations will have close colors by values.\n",
    "\n",
    "__Also, note:__ In symbolic observations, we can choose wether taxis are aware of each other via the hyper parameter <code>can_see_others</code>."
   ]
  },
  {
   "cell_type": "markdown",
   "id": "ff5dfbc1",
   "metadata": {},
   "source": [
    "### Environment's Parameters\n",
    "1. <code>num_taxis</code> - the number of taxis operating in the envorinment. _default=1_.\n",
    "2. <code>num_passengers</code> - the number of passengers to drive in the envorinment. _default=1_.\n",
    "3. <code>max_fuel</code> - if <code>None</code> - each taxi has unlimited fuel to spent, else, this is the amount of fuel in a full-tank, and this amount decreases by 1 in each timestep unless taxis fill their tank at the station with a special action._default=<code>None</code>_.\n",
    "4. <code>domain_map</code> - array of chars, representing the environment map with special characters for taxis initilized spots and fuel stations. _default=pre-defined map_.\n",
    "5. <code>taxis_capacity</code> - a list of integers, where the i'th element represents the i'th taxi's passengers limit, where <code>None</code> represents unlimitted capacity. _default=None_.\n",
    "6. <code>collision_sensitive_domain</code> - if <code>True</code> - taxis that move to the same grid point in the map - collide and stop their operation, otherwise, there can be multiple taxis at the same grid point. _default=False_.\n",
    "7. <code>fuel_type_list</code> - a list of either 'F' or 'G', where each element represents the fuel type of each taxi (F for *F*uel and G for *G*as), if <code>None</code> - all are fuel. _default=None_.\n",
    "8. <code>option_to_stand_by</code> - if <code>True</code> - taxis have the option to take *no_action*. _default=False_.\n",
    "9. <code>view_len</code> - relevant for image observations, defines the size of the window of sight of the taxis' observations, _default=2_.\n",
    "10. <code>rewards_table</code> - a dictionary that defines changes in the original reward table, see description below, _default=default_reward_table_.\n",
    "11. <code>observation_type</code> - either 'symbolic' or 'image', indicating the type of observations to the taxis, _default='symbolic'.\n",
    "12. <code>can_see_others</code> - If <code>True</code> and in symbolic observations mode, taxis will have other taxis' locations in their observations. _default=<code>False</code>,_. Note that in image oservations taxis can always see each other."
   ]
  },
  {
   "cell_type": "markdown",
   "id": "0091029f",
   "metadata": {},
   "source": [
    "### Changing the Reward Table"
   ]
  },
  {
   "cell_type": "markdown",
   "id": "d5a8fee8",
   "metadata": {},
   "source": [
    "The default reward table is:\n",
    "<code>\n",
    "    dict(\n",
    "    step=-1,\n",
    "    no_fuel=-1,\n",
    "    bad_pickup=-1,\n",
    "    bad_dropoff=-1,\n",
    "    bad_refuel=-1,\n",
    "    bad_fuel=-1,\n",
    "    pickup=-1,\n",
    "    standby_engine_off=-1,\n",
    "    turn_engine_on=-1,\n",
    "    turn_engine_off=-1,\n",
    "    standby_engine_on=-1,\n",
    "    intermediate_dropoff=2,\n",
    "    final_dropoff=100,\n",
    "    hit_wall=-1,\n",
    "    collision=-1,\n",
    "    collided=-1,\n",
    "    unrelated_action=-1,\n",
    ")</code>\n",
    "\n",
    "Note that it is intended to be very elaborate. In the default version, the taxis get <code>-1</code> for default actions and \"time that goes by\", and this apply for many scenarios, s.t bad_pickup, standby, step...\n",
    "\n",
    "We can use this elaboration in our advantage for customizing this dictionary (or only the parts of it that we would like to change, and then initialize an environment with our reward table of interest.\n",
    "\n",
    "#### In the next example we'll initialize an environment where we speciall penalize taxis for making <code>bad_pickup</code> tries, all other rewards are the same."
   ]
  },
  {
   "cell_type": "code",
   "execution_count": 5,
   "id": "84f2679a",
   "metadata": {},
   "outputs": [],
   "source": [
    "customized_reward = dict(bad_pickup=-50)\n",
    "env_instance_image_obs = TaxiEnv(rewards_table=customized_reward)"
   ]
  },
  {
   "cell_type": "markdown",
   "id": "2016a8c2",
   "metadata": {},
   "source": [
    "### For your convenience, we are also adding a simple example on training RLLib agents (PPO in this case) in our environment"
   ]
  },
  {
   "cell_type": "code",
   "execution_count": 6,
   "id": "29e08fb9",
   "metadata": {
    "scrolled": false
   },
   "outputs": [
    {
     "name": "stderr",
     "output_type": "stream",
     "text": [
      "E0225 21:16:40.035361153    5311 fork_posix.cc:70]           Fork support is only compatible with the epoll1 and poll polling strategies\n",
      "E0225 21:16:40.066989338    5311 fork_posix.cc:70]           Fork support is only compatible with the epoll1 and poll polling strategies\n",
      "E0225 21:16:40.084590227    5311 fork_posix.cc:70]           Fork support is only compatible with the epoll1 and poll polling strategies\n",
      "E0225 21:16:41.420966163    5311 fork_posix.cc:70]           Fork support is only compatible with the epoll1 and poll polling strategies\n",
      "2022-02-25 21:16:41,620\tWARNING worker.py:513 -- `ray.get_gpu_ids()` will always return the empty list when called from the driver. This is because Ray does not manage GPU allocations to the driver process.\n",
      ":task_name:bundle_reservation_check_func\n",
      ":actor_name:PPOTrainer\n",
      "2022-02-25 21:16:41,712\tINFO ppo.py:250 -- In multi-agent mode, policies will be optimized sequentially by the multi-GPU optimizer. Consider setting simple_optimizer=True if this doesn't work for you.\n",
      "2022-02-25 21:16:41,713\tINFO trainer.py:792 -- Current log_level is WARN. For more information, set 'log_level': 'INFO' / 'DEBUG' or use the -v and -vv flags.\n",
      ":actor_name:RolloutWorker\n",
      "2022-02-25 21:16:41,784\tWARNING deprecation.py:46 -- DeprecationWarning: `rllib.env.remote_vector_env.RemoteVectorEnv` has been deprecated. Use `ray.rllib.env.remote_base_env.RemoteBaseEnv` instead. This will raise an error in the future!\n"
     ]
    },
    {
     "name": "stdout",
     "output_type": "stream",
     "text": [
      ":task_name:bundle_reservation_check_func\n",
      ":actor_name:PPOTrainer\n",
      ":actor_name:RolloutWorker\n",
      ":actor_name:RolloutWorker\n"
     ]
    },
    {
     "name": "stderr",
     "output_type": "stream",
     "text": [
      ":actor_name:RolloutWorker\n",
      "2022-02-25 21:16:41,927\tWARNING util.py:55 -- Install gputil for GPU system monitoring.\n",
      "2022-02-25 21:16:48,000\tWARNING ppo.py:127 -- No data for taxi_2, not updating kl\n"
     ]
    }
   ],
   "source": [
    "# need torch for this cell, simply run:\n",
    "# !pip install torch\n",
    "import random\n",
    "\n",
    "import ray\n",
    "from ray import tune\n",
    "from ray.rllib.examples.models.shared_weights_model import TorchSharedWeightsModel\n",
    "\n",
    "from ray.rllib.models import ModelCatalog\n",
    "from ray.rllib.policy.policy import PolicySpec\n",
    "from ray.rllib.utils.test_utils import check_learning_achieved\n",
    "\n",
    "ray.init(ignore_reinit_error=True, local_mode=True)\n",
    "\n",
    "# Register the models to use.\n",
    "mod1 = mod2 = TorchSharedWeightsModel\n",
    "ModelCatalog.register_custom_model(\"model1\", mod1)\n",
    "ModelCatalog.register_custom_model(\"model2\", mod2)\n",
    "\n",
    "num_policies = 2\n",
    "num_agents = 2\n",
    "\n",
    "# Each policy can have a different configuration (including custom model).\n",
    "def gen_policy(i):\n",
    "    config = {\n",
    "        \"model\": {\n",
    "            \"custom_model\": [\"model1\", \"model2\"][i % 2],\n",
    "        },\n",
    "        \"gamma\": random.choice([0.95, 0.99]),\n",
    "    }\n",
    "    return PolicySpec(config=config)\n",
    "\n",
    "# Setup PPO with an ensemble of `num_policies` different policies.\n",
    "policies = {\"taxi_{}\".format(i + 1): gen_policy(i) for i in range(num_policies)}\n",
    "policy_ids = list(policies.keys())\n",
    "\n",
    "def policy_mapping_fn(agent_id, episode, worker, **kwargs):\n",
    "    return agent_id\n",
    "\n",
    "config = {\n",
    "    \"env\": TaxiEnv,\n",
    "    \"env_config\": {\n",
    "        \"taxis_number\": num_agents,\n",
    "        \"can_see_others\": True\n",
    "    },\n",
    "    \"num_gpus\": 0,\n",
    "    \"horizon\": 200,  # This is relevant because our env is episodic.\n",
    "    \"multiagent\": {\n",
    "        \"policies\": policies,\n",
    "        \"policy_mapping_fn\": policy_mapping_fn,\n",
    "    },\n",
    "    \"framework\": \"torch\",\n",
    "}\n",
    "stop = {\n",
    "#     \"episode_reward_mean\": 10,\n",
    "    \"timesteps_total\": 1000,\n",
    "}\n",
    "\n",
    "results = tune.run(\"PPO\", stop=stop, config=config, verbose=0)\n",
    "# check_learning_achieved(results, 10)\n",
    "ray.shutdown()"
   ]
  },
  {
   "cell_type": "markdown",
   "id": "ade16ea0",
   "metadata": {},
   "source": [
    "### And just like that! We are good to go!"
   ]
  },
  {
   "cell_type": "markdown",
   "id": "146a0455",
   "metadata": {},
   "source": [
    "### After initializing the environemnt you can deploy to it any planner/ RL/ MARL algorithms that you like and works with gym.\n",
    "\n",
    "# Enjoy!"
   ]
  }
 ],
 "metadata": {
  "kernelspec": {
   "display_name": "Python 3 (ipykernel)",
   "language": "python",
   "name": "python3"
  },
  "language_info": {
   "codemirror_mode": {
    "name": "ipython",
    "version": 3
   },
   "file_extension": ".py",
   "mimetype": "text/x-python",
   "name": "python",
   "nbconvert_exporter": "python",
   "pygments_lexer": "ipython3",
   "version": "3.7.11"
  }
 },
 "nbformat": 4,
 "nbformat_minor": 5
}