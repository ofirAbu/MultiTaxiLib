{
 "cells": [
  {
   "cell_type": "markdown",
   "id": "5d6396a7",
   "metadata": {},
   "source": [
    "# Multi-Taxi Environment Demonstration\n",
    "## In the followin example we will demonstrate:\n",
    "1. Setting up the environment.\n",
    "2. The different formats of observations.\n",
    "3. Doc the adjustable parameters.\n",
    "4. Show how to change the reward table."
   ]
  },
  {
   "cell_type": "code",
   "execution_count": 1,
   "id": "f2003c0f",
   "metadata": {},
   "outputs": [
    {
     "name": "stdout",
     "output_type": "stream",
     "text": [
      "Looking in indexes: https://test.pypi.org/simple/\n",
      "Collecting MultiTaxiLib==0.1.1\n",
      "  Downloading https://test-files.pythonhosted.org/packages/d9/27/147ada97b5d1b50c86a8ae069a218755f173b54ff9b1fd4a725fd2f1f7b9/MultiTaxiLib-0.1.1-py2.py3-none-any.whl (21 kB)\n",
      "Requirement already satisfied: numpy in /home/ofir/anaconda3/envs/test_libs/lib/python3.8/site-packages (from MultiTaxiLib==0.1.1) (1.22.2)\n",
      "Requirement already satisfied: gym in /home/ofir/anaconda3/envs/test_libs/lib/python3.8/site-packages (from MultiTaxiLib==0.1.1) (0.22.0)\n",
      "Requirement already satisfied: gym-notices>=0.0.4 in /home/ofir/anaconda3/envs/test_libs/lib/python3.8/site-packages (from gym->MultiTaxiLib==0.1.1) (0.0.4)\n",
      "Requirement already satisfied: cloudpickle>=1.2.0 in /home/ofir/anaconda3/envs/test_libs/lib/python3.8/site-packages (from gym->MultiTaxiLib==0.1.1) (2.0.0)\n",
      "Requirement already satisfied: importlib-metadata>=4.10.0; python_version < \"3.10\" in /home/ofir/anaconda3/envs/test_libs/lib/python3.8/site-packages (from gym->MultiTaxiLib==0.1.1) (4.11.1)\n",
      "Requirement already satisfied: zipp>=0.5 in /home/ofir/anaconda3/envs/test_libs/lib/python3.8/site-packages (from importlib-metadata>=4.10.0; python_version < \"3.10\"->gym->MultiTaxiLib==0.1.1) (3.7.0)\n",
      "Installing collected packages: MultiTaxiLib\n",
      "  Attempting uninstall: MultiTaxiLib\n",
      "    Found existing installation: MultiTaxiLib 0.1.0\n",
      "    Uninstalling MultiTaxiLib-0.1.0:\n",
      "      Successfully uninstalled MultiTaxiLib-0.1.0\n",
      "Successfully installed MultiTaxiLib-0.1.1\n"
     ]
    }
   ],
   "source": [
    "# installing easily via pip\n",
    "!pip install -i https://test.pypi.org/simple/ MultiTaxiLib==0.1.1"
   ]
  },
  {
   "cell_type": "code",
   "execution_count": 5,
   "id": "8a1c70a6",
   "metadata": {},
   "outputs": [],
   "source": [
    "from MultiTaxiLib.taxi_environment import TaxiEnv\n",
    "import matplotlib.pyplot as plt"
   ]
  },
  {
   "cell_type": "code",
   "execution_count": 6,
   "id": "1dafd282",
   "metadata": {},
   "outputs": [],
   "source": [
    "env_instance = TaxiEnv()"
   ]
  },
  {
   "cell_type": "markdown",
   "id": "2786ed22",
   "metadata": {},
   "source": [
    "### Observations\n",
    "The observations returned as a dictionary with the keys being \"taxi_{i}\", such that each item is the observation of agent \"i\", starting with i=1.\n",
    "\n",
    "An observation could be either an image, which is a window of sight for the agent, or a sybolic vector consists of: <code>[\n",
    "            taxi_row, taxi_col, taxi_fuel, \n",
    "            passenger1_row, passenger1_col... passenger_n_row, passenger_n_col,\n",
    "            passenger1_dest_row, passenger1_dest_col... passenger_n_dest_row, passenger_n_dest_col,\n",
    "            passenger1_status... passenger_n_status\n",
    "        ]</code>"
   ]
  },
  {
   "cell_type": "code",
   "execution_count": 7,
   "id": "57efb548",
   "metadata": {},
   "outputs": [
    {
     "name": "stdout",
     "output_type": "stream",
     "text": [
      "Symbolic Vector Observation:\n",
      "[0 4 0 0 0 4 0 2]\n",
      "Image Observation:\n"
     ]
    },
    {
     "data": {
      "text/plain": [
       "<matplotlib.image.AxesImage at 0x7f835e969850>"
      ]
     },
     "execution_count": 7,
     "metadata": {},
     "output_type": "execute_result"
    },
    {
     "data": {
      "image/png": "[encoded data removed]",
      "text/plain": [
       "<Figure size 432x288 with 1 Axes>"
      ]
     },
     "metadata": {
      "needs_background": "light"
     },
     "output_type": "display_data"
    }
   ],
   "source": [
    "env_instance_image_obs = TaxiEnv(observation_type='image')\n",
    "env_instance_symbolic_obs = TaxiEnv(observation_type='symbolic')\n",
    "\n",
    "print(f\"Symbolic Vector Observation:\\n{env_instance_symbolic_obs.reset()['taxi_1']}\")\n",
    "print(\"Image Observation:\")\n",
    "plt.imshow(env_instance_image_obs.reset()['taxi_1'])"
   ]
  },
  {
   "cell_type": "markdown",
   "id": "987ae51c",
   "metadata": {},
   "source": [
    "Note: In image observations, fuel and gas station will have distinct colors (pink and purple), and passengers current locations and destinations will have close colors by values."
   ]
  },
  {
   "cell_type": "markdown",
   "id": "ff5dfbc1",
   "metadata": {},
   "source": [
    "### Environment's Parameters\n",
    "1. <code>num_taxis</code> - the number of taxis operating in the envorinment. _default=1_.\n",
    "2. <code>num_passengers</code> - the number of passengers to drive in the envorinment. _default=1_.\n",
    "3. <code>max_fuel</code> - if <code>None</code> - each taxi has unlimited fuel to spent, else, this is the amount of fuel in a full-tank, and this amount decreases by 1 in each timestep unless taxis fill their tank at the station with a special action._default=<code>None</code>_.\n",
    "4. <code>domain_map</code> - array of chars, representing the environment map with special characters for taxis initilized spots and fuel stations. _default=pre-defined map_.\n",
    "5. <code>taxis_capacity</code> - a list of integers, where the i'th element represents the i'th taxi's passengers limit, where <code>None</code> represents unlimitted capacity. _default=None_.\n",
    "6. <code>collision_sensitive_domain</code> - if <code>True</code> - taxis that move to the same grid point in the map - collide and stop their operation, otherwise, there can be multiple taxis at the same grid point. _default=False_.\n",
    "7. <code>fuel_type_list</code> - a list of either 'F' or 'G', where each element represents the fuel type of each taxi (F for *F*uel and G for *G*as), if <code>None</code> - all are fuel. _default=None_.\n",
    "8. <code>option_to_stand_by</code> - if <code>True</code> - taxis have the option to take *no_action*. _default=False_.\n",
    "9. <code>view_len</code> - relevant for image observations, defines the size of the window of sight of the taxis' observations, _default=2_.\n",
    "10. <code>rewards_table</code> - a dictionary that defines changes in the original reward table, see description below, _default=default_reward_table_.\n",
    "11. <code>observation_type</code> - either 'symbolic' or 'image', indicating the type of observations to the taxis, _default='symbolic'."
   ]
  },
  {
   "cell_type": "markdown",
   "id": "0091029f",
   "metadata": {},
   "source": [
    "### Changing the Reward Table"
   ]
  },
  {
   "cell_type": "markdown",
   "id": "d5a8fee8",
   "metadata": {},
   "source": [
    "The default reward table is:\n",
    "<code>\n",
    "    dict(\n",
    "    step=-1,\n",
    "    no_fuel=-1,\n",
    "    bad_pickup=-1,\n",
    "    bad_dropoff=-1,\n",
    "    bad_refuel=-1,\n",
    "    bad_fuel=-1,\n",
    "    pickup=-1,\n",
    "    standby_engine_off=-1,\n",
    "    turn_engine_on=-1,\n",
    "    turn_engine_off=-1,\n",
    "    standby_engine_on=-1,\n",
    "    intermediate_dropoff=2,\n",
    "    final_dropoff=100,\n",
    "    hit_wall=-1,\n",
    "    collision=-1,\n",
    "    collided=-1,\n",
    "    unrelated_action=-1,\n",
    ")</code>\n",
    "\n",
    "Note that it is intended to be very elaborate. In the default version, the taxis get <code>-1</code> for default actions and \"time that goes by\", and this apply for many scenarios, s.t bad_pickup, standby, step...\n",
    "\n",
    "We can use this elaboration in our advantage for customizing this dictionary (or only the parts of it that we would like to change, and then initialize an environment with our reward table of interest.\n",
    "\n",
    "#### In the next example we'll initialize an environment where we speciall penalize taxis for making <code>bad_pickup</code> tries, all other rewards are the same."
   ]
  },
  {
   "cell_type": "code",
   "execution_count": 5,
   "id": "84f2679a",
   "metadata": {},
   "outputs": [],
   "source": [
    "customized_reward = dict(bad_pickup=-50)\n",
    "env_instance_image_obs = TaxiEnv(rewards_table=customized_reward)"
   ]
  },
  {
   "cell_type": "markdown",
   "id": "ade16ea0",
   "metadata": {},
   "source": [
    "### And just like that! We are good to go!"
   ]
  },
  {
   "cell_type": "markdown",
   "id": "146a0455",
   "metadata": {},
   "source": [
    "### After initializing the environemnt you can deploy to it any planner/ RL/ MARL algorithms that you like and works with gym.\n",
    "\n",
    "# Enjoy!"
   ]
  }
 ],
 "metadata": {
  "kernelspec": {
   "display_name": "Python 3 (ipykernel)",
   "language": "python",
   "name": "python3"
  },
  "language_info": {
   "codemirror_mode": {
    "name": "ipython",
    "version": 3
   },
   "file_extension": ".py",
   "mimetype": "text/x-python",
   "name": "python",
   "nbconvert_exporter": "python",
   "pygments_lexer": "ipython3",
   "version": "3.8.5"
  }
 },
 "nbformat": 4,
 "nbformat_minor": 5
}