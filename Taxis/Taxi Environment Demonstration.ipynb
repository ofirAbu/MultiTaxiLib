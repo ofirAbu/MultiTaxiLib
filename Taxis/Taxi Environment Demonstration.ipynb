{
 "cells": [
  {
   "cell_type": "markdown",
   "metadata": {
    "colab_type": "text",
    "id": "9x5FMGOESs8Y"
   },
   "source": [
    "## Variationon the Taxi-Grid Enviroment"
   ]
  },
  {
   "cell_type": "markdown",
   "metadata": {
    "colab_type": "text",
    "id": "sIKdvT6vSs8Z"
   },
   "source": [
    "### Motivation"
   ]
  },
  {
   "cell_type": "markdown",
   "metadata": {
    "colab_type": "text",
    "id": "j4CIXTWLSs8a"
   },
   "source": [
    "Our project is based on the taxi gym environment (https://gym.openai.com/envs/Taxi-v3/), which is a basic \"grid-world\" enviroment used for research in artificial intelligence and reinforcement learning."
   ]
  },
  {
   "cell_type": "code",
   "execution_count": 1,
   "metadata": {
    "colab": {
     "base_uri": "https://localhost:8080/",
     "height": 153
    },
    "colab_type": "code",
    "id": "OqJ8uXotSs8b",
    "outputId": "59356029-830b-45a4-d956-fa3ec931ce83"
   },
   "outputs": [
    {
     "name": "stdout",
     "output_type": "stream",
     "text": [
      "+---------+\n",
      "|\u001B[34;1mR\u001B[0m: | : :\u001B[35mG\u001B[0m|\n",
      "| : | : : |\n",
      "| : : : : |\n",
      "| | : | : |\n",
      "|Y| :\u001B[43m \u001B[0m|B: |\n",
      "+---------+\n",
      "\n"
     ]
    }
   ],
   "source": [
    "import gym\n",
    "\n",
    "env = gym.make(\"Taxi-v3\").env\n",
    "\n",
    "env.reset ()\n",
    "env.render()"
   ]
  },
  {
   "cell_type": "markdown",
   "metadata": {
    "colab_type": "text",
    "id": "YGvTYwNhSs8h"
   },
   "source": [
    "This is original taxi grid enviroment, which is available as part of the OpenAI gym module. The enviroment models a taxi, which moves within the gridworld enviroment with the goal of picking up a passenger and bringing her to her destination.\n",
    "\n",
    "Our modifications on the original enviroment were created with two main\n",
    "goals:  \n",
    "**First**, the original taxi grid enviroment is a single agent enviroment. We were interested in allowing multi-agent reinforcement learning, so we created an option to use multiple taxis.  \n",
    "**Second**, by adding a fuel constraint modification, we were able to test whether agents would be able to consider the long term fuel constraint, and maybe use the environment in limitted resources research situations.  \n",
    "**Third**, our environment can show and allow/restrict for taxis collision.  \n",
    "**Fourth**, we added to the fuel constraint a fuel-type constraint (we can model gas/fuel taxis with suitable fuel stations)."
   ]
  },
  {
   "cell_type": "markdown",
   "metadata": {
    "colab_type": "text",
    "id": "yEhPGfizSs8i"
   },
   "source": [
    "### Installation"
   ]
  },
  {
   "cell_type": "markdown",
   "metadata": {
    "colab_type": "text",
    "id": "NBoscLwESs8i"
   },
   "source": [
    "To work with our custom enviroments, the first thing that we want to do is to install them. As the enviroments are packaged together into a module called \"multitaxienv\" which is to be found on the github, it is easy to install all of the modules at once."
   ]
  },
  {
   "cell_type": "code",
   "execution_count": 2,
   "metadata": {
    "colab": {
     "base_uri": "https://localhost:8080/",
     "height": 289
    },
    "colab_type": "code",
    "id": "QoHB9ZC5Ss8j",
    "outputId": "8cba1882-27d6-49e8-a0d1-4fc20c61c4d0"
   },
   "outputs": [
    {
     "name": "stdout",
     "output_type": "stream",
     "text": [
      "Collecting git+https://github.com/sarah-keren/MutliTaxiEnv.git\n",
      "  Cloning https://github.com/sarah-keren/MutliTaxiEnv.git to /tmp/pip-req-build-r3uofinr\n",
      "  Running command git clone -q https://github.com/sarah-keren/MutliTaxiEnv.git /tmp/pip-req-build-r3uofinr\n",
      "Requirement already satisfied, skipping upgrade: numpy in /usr/local/lib/python3.6/dist-packages (from MultiTaxiEnv==0.2) (1.18.5)\n",
      "Requirement already satisfied, skipping upgrade: gym in /usr/local/lib/python3.6/dist-packages (from MultiTaxiEnv==0.2) (0.17.2)\n",
      "Requirement already satisfied, skipping upgrade: scipy in /usr/local/lib/python3.6/dist-packages (from gym->MultiTaxiEnv==0.2) (1.4.1)\n",
      "Requirement already satisfied, skipping upgrade: pyglet<=1.5.0,>=1.4.0 in /usr/local/lib/python3.6/dist-packages (from gym->MultiTaxiEnv==0.2) (1.5.0)\n",
      "Requirement already satisfied, skipping upgrade: cloudpickle<1.4.0,>=1.2.0 in /usr/local/lib/python3.6/dist-packages (from gym->MultiTaxiEnv==0.2) (1.3.0)\n",
      "Requirement already satisfied, skipping upgrade: future in /usr/local/lib/python3.6/dist-packages (from pyglet<=1.5.0,>=1.4.0->gym->MultiTaxiEnv==0.2) (0.16.0)\n",
      "Building wheels for collected packages: MultiTaxiEnv\n",
      "  Building wheel for MultiTaxiEnv (setup.py) ... \u001B[?25l\u001B[?25hdone\n",
      "  Created wheel for MultiTaxiEnv: filename=MultiTaxiEnv-0.2-cp36-none-any.whl size=11042 sha256=4276509999855777277fc12b9947e5e0959f932039121f2ca297a1ffff03d204\n",
      "  Stored in directory: /tmp/pip-ephem-wheel-cache-1u1ngwdm/wheels/a7/8b/8f/2c7828f791585f08f092f39fb14023ccf64d14a1a3d68143ef\n",
      "Successfully built MultiTaxiEnv\n",
      "Installing collected packages: MultiTaxiEnv\n",
      "Successfully installed MultiTaxiEnv-0.2\n"
     ]
    }
   ],
   "source": [
    "!pip install git+https://github.com/sarah-keren/MutliTaxiEnv.git --upgrade"
   ]
  },
  {
   "cell_type": "markdown",
   "metadata": {
    "colab_type": "text",
    "id": "EFeZ_l6mSs8m"
   },
   "source": [
    "You'll note that we have only one calss file. To support all the variations of our environment we use the parameters in the __init__ of our class.\n",
    "\n",
    "After installing the environment, run the following line:"
   ]
  },
  {
   "cell_type": "code",
   "execution_count": 1,
   "metadata": {},
   "outputs": [],
   "source": [
    "# used for debugging purposes\n",
    "%load_ext autoreload\n",
    "%autoreload 2\n",
    "from multitaxienv.taxi_environment import TaxiEnv"
   ]
  },
  {
   "cell_type": "markdown",
   "metadata": {},
   "source": [
    "### Initializing Environment - Hyper-Parameters of the Class"
   ]
  },
  {
   "cell_type": "code",
   "execution_count": 38,
   "metadata": {},
   "outputs": [],
   "source": [
    "env = TaxiEnv(num_taxis = 2, num_passengers = 2, max_fuel = None,\n",
    "                 taxis_capacity = None, collision_sensitive_domain = False,\n",
    "                 fuel_type_list = None, option_to_stand_by = True)"
   ]
  },
  {
   "cell_type": "markdown",
   "metadata": {},
   "source": [
    "1. *num_taxis* - default is 2, but you can select every number $\\in$ $[1, \\infty)$.\n",
    "2. *num_passengers* - same.\n",
    "3. *max_fuel* - a list where the i'th element is the max fuel of taxi number i. Each taxi starts with max fuel. Default is **None** which sets fuel limit to np.inf (no fuel model).\n",
    "4. *taxis_capacity* - A list with the passengers limit for each taxi, default is 1 for each taxi.\n",
    "5. *collision_sensitive_domain* - Boolean to specify wether collisions will be shown and affect the domain (True) or will be ignored (False).\n",
    "6. *fuel_type_list* - The fuel type ('**F**uel / '**G**as' of each taxi, default is 'F'.\n",
    "7. *option_to_stand_by* - Can taxis stand in place (True), or not (False), default is True."
   ]
  },
  {
   "cell_type": "code",
   "execution_count": 3,
   "metadata": {},
   "outputs": [
    {
     "name": "stdout",
     "output_type": "stream",
     "text": [
      "+---------+\n",
      "|\u001B[34;1mX\u001B[0m: |F:\u001B[41m_\u001B[0m:\u001B[35m\u001B[35mX\u001B[0m\u001B[0m|\n",
      "| : | : : |\n",
      "| : : : : |\n",
      "| | : | : |\n",
      "|\u001B[43m\u001B[34;1mX\u001B[0m\u001B[0m| :G|X: |\n",
      "+---------+\n",
      "Taxi1-YELLOW: Fuel: inf, Location: (4,0), Collided: False\n",
      "Taxi2-RED: Fuel: inf, Location: (0,3), Collided: False\n",
      "Passenger1: Location: (4, 0), Destination: (0, 4)\n",
      "Passenger2: Location: (0, 0), Destination: (0, 4)\n"
     ]
    }
   ],
   "source": [
    "env = TaxiEnv()\n",
    "env.reset()\n",
    "env.s = 1022\n",
    "env.render()"
   ]
  },
  {
   "cell_type": "markdown",
   "metadata": {},
   "source": [
    "Here we initialized a domain with the default values. As we can see:  \n",
    "We have **2 taxis** represented in the highlighted boxes, we can see wich taxi in which color by the description printed below the map.  \n",
    "We also have **np.inf** fuel limit.  \n",
    "There are also **2 passengers** at the X marked positions with destination at X colored in *magenta*.\n",
    "\n",
    "Note that we save for each taxi wether it had been collided or not."
   ]
  },
  {
   "cell_type": "markdown",
   "metadata": {},
   "source": [
    "### Action Space of the Environment"
   ]
  },
  {
   "cell_type": "code",
   "execution_count": 4,
   "metadata": {},
   "outputs": [
    {
     "data": {
      "text/plain": [
       "{0: 'south',\n",
       " 1: 'north',\n",
       " 2: 'east',\n",
       " 3: 'west',\n",
       " 4: 'pickup',\n",
       " 5: 'dropoff',\n",
       " 6: 'turn_engine_on',\n",
       " 7: 'turn_engine_off',\n",
       " 8: 'standby',\n",
       " 9: 'refuel'}"
      ]
     },
     "execution_count": 4,
     "metadata": {},
     "output_type": "execute_result"
    }
   ],
   "source": [
    "env.get_available_actions_dictionary()[1]"
   ]
  },
  {
   "cell_type": "markdown",
   "metadata": {},
   "source": [
    "**get_available_actions_dictionary()** returns a tuple where:  \n",
    "1. 1st element - available action indexes that the specific initialized domain supports.\n",
    "2. 2nd element - the dictionary above which specify all available actions' names and it's indexes.  \n",
    "\n",
    "*Note that in no-fuel model (induced by max_fuel = np.inf) and in no option to standby model - we won't be able to use actions: 9 and 6, 7, 8 respectively.*"
   ]
  },
  {
   "cell_type": "code",
   "execution_count": 5,
   "metadata": {},
   "outputs": [
    {
     "data": {
      "text/plain": [
       "[0, 1, 2, 3, 4, 5, 6, 7, 8]"
      ]
     },
     "execution_count": 5,
     "metadata": {},
     "output_type": "execute_result"
    }
   ],
   "source": [
    "env.get_available_actions_dictionary()[0]"
   ]
  },
  {
   "cell_type": "markdown",
   "metadata": {},
   "source": [
    "At the first element returned we get the action space available to us on the initialized domain.  \n",
    "**Those indexes are the actions we send to the domain when we want to make a step!**"
   ]
  },
  {
   "cell_type": "markdown",
   "metadata": {
    "colab_type": "text",
    "id": "aBV-75fhSs8v"
   },
   "source": [
    "Here we send actions \"east\" for each one of our 2 taxis.  \n",
    "We get the environment's next state which is build as: **taxis locations, current_fuel_list, passengers_start_locations, destinations, passengers_status**."
   ]
  },
  {
   "cell_type": "code",
   "execution_count": 6,
   "metadata": {
    "colab": {
     "base_uri": "https://localhost:8080/",
     "height": 34
    },
    "colab_type": "code",
    "id": "E15ZVBhuSs8v",
    "outputId": "3abb2c99-ebc3-444f-a401-ef862787018d"
   },
   "outputs": [
    {
     "name": "stdout",
     "output_type": "stream",
     "text": [
      "The next state is: [[[4, 0], [0, 4]], [inf, inf], [[4, 0], [0, 0]], [[0, 4], [0, 4]], [0, 0]], the reward for the last action is: [-20, -1], and the episode is not done.\n"
     ]
    }
   ],
   "source": [
    "state, reward, done = env.step([2, 2])\n",
    "print(\"The next state is: \" + str(state) + \", the reward for the last action is: \" + str(reward) + \", and the episode is \"+ {True: \"\", False: \"not\"}[done]  + \" done.\")"
   ]
  },
  {
   "cell_type": "markdown",
   "metadata": {
    "colab_type": "text",
    "id": "BSeB3yZcSs8z"
   },
   "source": [
    "Generally to preform an action, we use the step function. This returns a tuple which includes the next state, the reward and whether the episode has ended or not.  \n",
    "In this environment, the episode ends when either:\n",
    "1. *all passengers reached their destinations*.\n",
    "2. *all taxis are out of fuel*.\n",
    "3. *all taxis collided*.  "
   ]
  },
  {
   "cell_type": "markdown",
   "metadata": {},
   "source": [
    "The ***rewards***, are given in the config.py as below:"
   ]
  },
  {
   "cell_type": "code",
   "execution_count": null,
   "metadata": {},
   "outputs": [],
   "source": [
    "taxi_env_rewards = dict(\n",
    "    step=-1,\n",
    "    no_fuel=-20,\n",
    "    bad_pickup=-15,\n",
    "    bad_dropoff=-15,\n",
    "    bad_refuel=-10,\n",
    "    pickup=-1,\n",
    "    standby_engine_off=-1,\n",
    "    turn_engine_on=-1,\n",
    "    turn_engine_off=-1,\n",
    "    standby_engine_on=-1,\n",
    "    intermediate_dropoff=-10,\n",
    "    final_dropoff=100,\n",
    "    hit_wall=-20,\n",
    "    collision=-30,\n",
    ")"
   ]
  },
  {
   "cell_type": "markdown",
   "metadata": {},
   "source": [
    "Now let's try to navigate to the fuel station:"
   ]
  },
  {
   "cell_type": "code",
   "execution_count": 72,
   "metadata": {},
   "outputs": [
    {
     "name": "stdout",
     "output_type": "stream",
     "text": [
      "+---------+\n",
      "|X: |F: :X|\n",
      "| : | : : |\n",
      "| : : : : |\n",
      "| | :\u001B[41m_\u001B[0m| : |\n",
      "|\u001B[35m\u001B[35mX\u001B[0m\u001B[0m| :G|\u001B[34;1m\u001B[34;1mX\u001B[0m\u001B[0m:\u001B[43m_\u001B[0m|\n",
      "+---------+\n",
      "  (east ,east)\n",
      "Taxi1-YELLOW: Fuel: inf, Location: (4,4), Collided: False\n",
      "Taxi2-RED: Fuel: inf, Location: (3,2), Collided: False\n",
      "Passenger1: Location: (4, 3), Destination: (4, 0)\n",
      "Passenger2: Location: (4, 3), Destination: (4, 0)\n"
     ]
    }
   ],
   "source": [
    "env.render()"
   ]
  },
  {
   "cell_type": "code",
   "execution_count": 73,
   "metadata": {},
   "outputs": [
    {
     "name": "stdout",
     "output_type": "stream",
     "text": [
      "+---------+\n",
      "|X: |F: :X|\n",
      "| : | : : |\n",
      "| : : : : |\n",
      "| | : | :\u001B[43m_\u001B[0m|\n",
      "|\u001B[35m\u001B[35mX\u001B[0m\u001B[0m| :\u001B[41mG\u001B[0m|\u001B[34;1m\u001B[34;1mX\u001B[0m\u001B[0m: |\n",
      "+---------+\n",
      "  (north ,south)\n",
      "Taxi1-YELLOW: Fuel: inf, Location: (3,4), Collided: False\n",
      "Taxi2-RED: Fuel: inf, Location: (4,2), Collided: False\n",
      "Passenger1: Location: (4, 3), Destination: (4, 0)\n",
      "Passenger2: Location: (4, 3), Destination: (4, 0)\n"
     ]
    }
   ],
   "source": [
    "env.step([1, 0])\n",
    "env.render()"
   ]
  },
  {
   "cell_type": "markdown",
   "metadata": {},
   "source": [
    "### **Now let's play with a limtted fuel mode**  \n",
    "Notice,  \n",
    "1. in the map-description as the fuel status changes for the taxi that we move.\n",
    "2. The taxi is able to refuel only at stations with a suitable fuel type as defined for it in __init__."
   ]
  },
  {
   "cell_type": "code",
   "execution_count": 2,
   "metadata": {},
   "outputs": [],
   "source": [
    "env_limitted_fuel = TaxiEnv(num_taxis = 2, num_passengers = 2, max_fuel = [5, 5],\n",
    "                            taxis_capacity = None, collision_sensitive_domain = False,\n",
    "                            fuel_type_list = None, option_to_stand_by = True)"
   ]
  },
  {
   "cell_type": "code",
   "execution_count": 3,
   "metadata": {},
   "outputs": [
    {
     "name": "stdout",
     "output_type": "stream",
     "text": [
      "+---------+\n",
      "|\u001B[43mX\u001B[0m: |F: :\u001B[35m\u001B[41m\u001B[34;1mX\u001B[0m\u001B[0m\u001B[0m|\n",
      "| : | : : |\n",
      "| : : : : |\n",
      "| | : | : |\n",
      "|\u001B[35mX\u001B[0m| :G|\u001B[34;1mX\u001B[0m: |\n",
      "+---------+\n",
      "Taxi1-YELLOW: Fuel: 5, Location: (0,0), Collided: False\n",
      "Taxi2-RED: Fuel: 5, Location: (0,4), Collided: False\n",
      "Passenger1: Location: (4, 3), Destination: (0, 4)\n",
      "Passenger2: Location: (0, 4), Destination: (4, 0)\n"
     ]
    }
   ],
   "source": [
    "env_limitted_fuel.reset()\n",
    "env_limitted_fuel.render()"
   ]
  },
  {
   "cell_type": "markdown",
   "metadata": {
    "colab_type": "text",
    "id": "IuYHLwbFSs82",
    "pycharm": {
     "name": "#%% md\n"
    }
   },
   "source": [
    "We will now navigate to the fuel station and refuel.\n",
    "Notice how the fuel of each taxi changes as it moves."
   ]
  },
  {
   "cell_type": "code",
   "execution_count": 4,
   "metadata": {
    "pycharm": {
     "name": "#%%\n"
    }
   },
   "outputs": [
    {
     "name": "stdout",
     "output_type": "stream",
     "text": [
      "+---------+\n",
      "|X: |\u001B[41mF\u001B[0m: :\u001B[35m\u001B[34;1mX\u001B[0m\u001B[0m|\n",
      "| : | : : |\n",
      "|\u001B[43m_\u001B[0m: : : : |\n",
      "| | : | : |\n",
      "|\u001B[35mX\u001B[0m| :G|\u001B[34;1mX\u001B[0m: |\n",
      "+---------+\n",
      "  (south ,west)\n",
      "Taxi1-YELLOW: Fuel: 3, Location: (2,0), Collided: False\n",
      "Taxi2-RED: Fuel: 3, Location: (0,2), Collided: False\n",
      "Passenger1: Location: (4, 3), Destination: (0, 4)\n",
      "Passenger2: Location: (0, 4), Destination: (4, 0)\n"
     ]
    }
   ],
   "source": [
    "env_limitted_fuel.step([0, 3])  # south, west\n",
    "env_limitted_fuel.step([0, 3])  # south, west\n",
    "env_limitted_fuel.render()"
   ]
  },
  {
   "cell_type": "code",
   "execution_count": 5,
   "metadata": {},
   "outputs": [
    {
     "name": "stdout",
     "output_type": "stream",
     "text": [
      "+---------+\n",
      "|X: |\u001B[41mF\u001B[0m: :\u001B[35m\u001B[34;1mX\u001B[0m\u001B[0m|\n",
      "| : | : : |\n",
      "| :\u001B[43m_\u001B[0m: : : |\n",
      "| | : | : |\n",
      "|\u001B[35mX\u001B[0m| :G|\u001B[34;1mX\u001B[0m: |\n",
      "+---------+\n",
      "  (east ,refuel)\n",
      "Taxi1-YELLOW: Fuel: 2, Location: (2,1), Collided: False\n",
      "Taxi2-RED: Fuel: 5, Location: (0,2), Collided: False\n",
      "Passenger1: Location: (4, 3), Destination: (0, 4)\n",
      "Passenger2: Location: (0, 4), Destination: (4, 0)\n"
     ]
    }
   ],
   "source": [
    "env_limitted_fuel.step([2, 9])  # east, refuel\n",
    "env_limitted_fuel.render()"
   ]
  },
  {
   "cell_type": "code",
   "execution_count": null,
   "metadata": {
    "pycharm": {
     "name": "#%%\n"
    }
   },
   "outputs": [],
   "source": [
    "env_limitted_fuel.step([1, 0])\n",
    "env_limitted_fuel.render()"
   ]
  },
  {
   "cell_type": "code",
   "execution_count": null,
   "metadata": {
    "pycharm": {
     "name": "#%%\n"
    }
   },
   "outputs": [],
   "source": [
    "state, reward, done = env_limitted_fuel.step([1, 9])\n",
    "env_limitted_fuel.render()"
   ]
  },
  {
   "cell_type": "markdown",
   "metadata": {},
   "source": [
    "Here, since we have refuelled, the red taxi is at full. Another thing to note is that the state of the environment is encoded using a single number that represents the state. However, sometimes it may be useful to decode what that number actually means (for example, when using deep-Q learning). We can do that using the decode function."
   ]
  },
  {
   "cell_type": "markdown",
   "metadata": {
    "colab_type": "text",
    "id": "uI60U2tuSs86"
   },
   "source": [
    "Here, since we have refuelled, we are back at full."
   ]
  },
  {
   "cell_type": "markdown",
   "metadata": {
    "colab_type": "text",
    "id": "AClb59v6Ss8-"
   },
   "source": [
    "### Using Different Map  \n",
    "You can also input your own map as a list of strings and specify the maximum fuel. The map must be formatted in the same way as above, with '+'at the corners and '-', '|' specifying the boundaries. You can have as many destination and fuel stations as you want!"
   ]
  },
  {
   "cell_type": "code",
   "execution_count": 8,
   "metadata": {
    "colab": {},
    "colab_type": "code",
    "id": "rWBVp4TQSs8-"
   },
   "outputs": [],
   "source": [
    "custom_map = [\n",
    "    '+---------------+',\n",
    "    '| : :X| :F: : : |',\n",
    "    '|X: : | : | :X| |',\n",
    "    '| : : : : : : | |',\n",
    "    '| :X:F| :X| : :X|',\n",
    "    '+---------------+',\n",
    "]"
   ]
  },
  {
   "cell_type": "code",
   "execution_count": 10,
   "metadata": {
    "colab": {
     "base_uri": "https://localhost:8080/",
     "height": 153
    },
    "colab_type": "code",
    "id": "3DwdpeQ7Ss9B",
    "outputId": "106b3dcc-5d5a-43bc-ec7f-e45a475c66f1",
    "scrolled": true
   },
   "outputs": [
    {
     "name": "stdout",
     "output_type": "stream",
     "text": [
      "+---------------+\n",
      "| : :\u001B[41mX\u001B[0m| :F: : : |\n",
      "|X: : | :\u001B[43m_\u001B[0m| :\u001B[34;1m\u001B[34;1mX\u001B[0m\u001B[0m| |\n",
      "| : : : : : : | |\n",
      "| :\u001B[35mX\u001B[0m:F| :X| : :\u001B[35mX\u001B[0m|\n",
      "+---------------+\n",
      "Taxi1-YELLOW: Fuel: inf, Location: (1,4), Collided: False\n",
      "Taxi2-RED: Fuel: inf, Location: (0,2), Collided: False\n",
      "Passenger1: Location: (1, 6), Destination: (3, 7)\n",
      "Passenger2: Location: (1, 6), Destination: (3, 1)\n"
     ]
    }
   ],
   "source": [
    "env_new_map = TaxiEnv(domain_map=custom_map)\n",
    "env_new_map.reset()\n",
    "env_new_map.render()"
   ]
  },
  {
   "cell_type": "markdown",
   "metadata": {},
   "source": [
    "### Driving Passengers\n",
    "\n",
    "Here we'll show how the taxi can collect a passenger and drop it off, things to notice:  \n",
    "1. Passenger's location is changed when he's picked up and dropped off.\n",
    "2. The taxi can only collect as much passengers as it's capacity.\n",
    "3. The passenger can be dropped off anywhere free on the map."
   ]
  },
  {
   "cell_type": "code",
   "execution_count": 11,
   "metadata": {},
   "outputs": [],
   "source": [
    "passengers_example_env = TaxiEnv(num_taxis = 2, num_passengers = 2, max_fuel = [5, 5],\n",
    "                            taxis_capacity = None, collision_sensitive_domain = False,\n",
    "                            fuel_type_list = None, option_to_stand_by = True)"
   ]
  },
  {
   "cell_type": "code",
   "execution_count": 16,
   "metadata": {},
   "outputs": [
    {
     "name": "stdout",
     "output_type": "stream",
     "text": [
      "+---------+\n",
      "|X: |F: :\u001B[35m\u001B[34;1mX\u001B[0m\u001B[0m|\n",
      "| : | : :\u001B[43m_\u001B[0m|\n",
      "| : : : : |\n",
      "| | : | : |\n",
      "|\u001B[41mX\u001B[0m| :G|\u001B[35m\u001B[34;1mX\u001B[0m\u001B[0m: |\n",
      "+---------+\n",
      "Taxi1-YELLOW: Fuel: 5, Location: (1,4), Collided: False\n",
      "Taxi2-RED: Fuel: 5, Location: (4,0), Collided: False\n",
      "Passenger1: Location: (0, 4), Destination: (4, 3)\n",
      "Passenger2: Location: (4, 3), Destination: (0, 4)\n"
     ]
    }
   ],
   "source": [
    "passengers_example_env.reset()\n",
    "passengers_example_env.render()"
   ]
  },
  {
   "cell_type": "code",
   "execution_count": 17,
   "metadata": {},
   "outputs": [
    {
     "name": "stdout",
     "output_type": "stream",
     "text": [
      "+---------+\n",
      "|X: |F: :\u001B[35m\u001B[43m\u001B[34;1mX\u001B[0m\u001B[0m\u001B[0m|\n",
      "| : | : : |\n",
      "| : : : : |\n",
      "|\u001B[41m_\u001B[0m| : | : |\n",
      "|X| :G|\u001B[35m\u001B[34;1mX\u001B[0m\u001B[0m: |\n",
      "+---------+\n",
      "  (north ,north)\n",
      "Taxi1-YELLOW: Fuel: 4, Location: (0,4), Collided: False\n",
      "Taxi2-RED: Fuel: 4, Location: (3,0), Collided: False\n",
      "Passenger1: Location: (0, 4), Destination: (4, 3)\n",
      "Passenger2: Location: (4, 3), Destination: (0, 4)\n"
     ]
    }
   ],
   "source": [
    "passengers_example_env.step([1, 1])  # north, north\n",
    "passengers_example_env.render()"
   ]
  },
  {
   "cell_type": "code",
   "execution_count": 18,
   "metadata": {},
   "outputs": [
    {
     "name": "stdout",
     "output_type": "stream",
     "text": [
      "+---------+\n",
      "|X: |F: :\u001B[35m\u001B[43m\u001B[43;1mX\u001B[0m\u001B[0m\u001B[0m|\n",
      "| : | : : |\n",
      "|\u001B[41m_\u001B[0m: : : : |\n",
      "| | : | : |\n",
      "|X| :G|\u001B[35m\u001B[34;1mX\u001B[0m\u001B[0m: |\n",
      "+---------+\n",
      "  (pickup ,north)\n",
      "Taxi1-YELLOW: Fuel: 4, Location: (0,4), Collided: False\n",
      "Taxi2-RED: Fuel: 3, Location: (2,0), Collided: False\n",
      "Passenger1: Location: Taxi1, Destination: (4, 3)\n",
      "Passenger2: Location: (4, 3), Destination: (0, 4)\n"
     ]
    }
   ],
   "source": [
    "passengers_example_env.step([4, 1])  # south, pickup\n",
    "passengers_example_env.render()"
   ]
  },
  {
   "cell_type": "code",
   "execution_count": 19,
   "metadata": {},
   "outputs": [
    {
     "name": "stdout",
     "output_type": "stream",
     "text": [
      "+---------+\n",
      "|X: |F: :\u001B[35mX\u001B[0m|\n",
      "|\u001B[41m_\u001B[0m: | : :\u001B[43m\u001B[43;1m \u001B[0m\u001B[0m|\n",
      "| : : : : |\n",
      "| | : | : |\n",
      "|X| :G|\u001B[35m\u001B[34;1mX\u001B[0m\u001B[0m: |\n",
      "+---------+\n",
      "  (south ,north)\n",
      "Taxi1-YELLOW: Fuel: 3, Location: (1,4), Collided: False\n",
      "Taxi2-RED: Fuel: 2, Location: (1,0), Collided: False\n",
      "Passenger1: Location: Taxi1, Destination: (4, 3)\n",
      "Passenger2: Location: (4, 3), Destination: (0, 4)\n"
     ]
    }
   ],
   "source": [
    "passengers_example_env.step([0, 1])  # south, north\n",
    "passengers_example_env.render()"
   ]
  },
  {
   "cell_type": "code",
   "execution_count": 20,
   "metadata": {},
   "outputs": [
    {
     "name": "stdout",
     "output_type": "stream",
     "text": [
      "+---------+\n",
      "|\u001B[41mX\u001B[0m: |F: :\u001B[35mX\u001B[0m|\n",
      "| : | : :\u001B[43m\u001B[34;1m \u001B[0m\u001B[0m|\n",
      "| : : : : |\n",
      "| | : | : |\n",
      "|X| :G|\u001B[35m\u001B[34;1mX\u001B[0m\u001B[0m: |\n",
      "+---------+\n",
      "  (dropoff ,north)\n",
      "Taxi1-YELLOW: Fuel: 3, Location: (1,4), Collided: False\n",
      "Taxi2-RED: Fuel: 1, Location: (0,0), Collided: False\n",
      "Passenger1: Location: (1, 4), Destination: (4, 3)\n",
      "Passenger2: Location: (4, 3), Destination: (0, 4)\n"
     ]
    }
   ],
   "source": [
    "passengers_example_env.step([5, 1])  # dropoff, north\n",
    "passengers_example_env.render()"
   ]
  },
  {
   "cell_type": "markdown",
   "metadata": {},
   "source": [
    "### Collisions - Allow or Enforce?"
   ]
  },
  {
   "cell_type": "markdown",
   "metadata": {},
   "source": [
    "By using the hyper-parameter *collision_sensitive_model* at __init__, we can choose how to treat collisions.\n",
    "We'll demonstrate a different case of collision in the environment, but the important things to remember are:  \n",
    "1. When taxis can standby and the current step is about to cause a collision - **the later taxi to take action will be forced to standby**.\n",
    "2. when all taxis are collided - the domain is done.\n",
    "\n",
    "The collision status is printed in every taxi's status."
   ]
  },
  {
   "cell_type": "code",
   "execution_count": 26,
   "metadata": {},
   "outputs": [],
   "source": [
    "import numpy as np\n",
    "collision_env_example = TaxiEnv(num_taxis = 3, num_passengers = 2, max_fuel = [np.inf]*3,\n",
    "                            taxis_capacity = None, collision_sensitive_domain = True,\n",
    "                            fuel_type_list = None, option_to_stand_by = False)"
   ]
  },
  {
   "cell_type": "code",
   "execution_count": 33,
   "metadata": {},
   "outputs": [
    {
     "name": "stdout",
     "output_type": "stream",
     "text": [
      "+---------+\n",
      "|\u001B[35m\u001B[34;1mX\u001B[0m\u001B[0m: |F: :\u001B[35m\u001B[34;1mX\u001B[0m\u001B[0m|\n",
      "| : | : :\u001B[47m_\u001B[0m|\n",
      "| : : : : |\n",
      "| | : | :\u001B[43m_\u001B[0m|\n",
      "|X| :G|X:\u001B[41m_\u001B[0m|\n",
      "+---------+\n",
      "Taxi1-YELLOW: Fuel: inf, Location: (3,4), Collided: False\n",
      "Taxi2-RED: Fuel: inf, Location: (4,4), Collided: False\n",
      "Taxi3-WHITE: Fuel: inf, Location: (1,4), Collided: False\n",
      "Passenger1: Location: (0, 4), Destination: (0, 0)\n",
      "Passenger2: Location: (0, 0), Destination: (0, 4)\n"
     ]
    }
   ],
   "source": [
    "collision_env_example.reset()\n",
    "collision_env_example.render()"
   ]
  },
  {
   "cell_type": "code",
   "execution_count": 34,
   "metadata": {},
   "outputs": [
    {
     "name": "stdout",
     "output_type": "stream",
     "text": [
      "+---------+\n",
      "|\u001B[35m\u001B[34;1mX\u001B[0m\u001B[0m: |F: :\u001B[35m\u001B[34;1mX\u001B[0m\u001B[0m|\n",
      "| : | : : |\n",
      "| : : : :\u001B[47m_\u001B[0m|\n",
      "| | : | : |\n",
      "|X| :G|X:\u001B[40m\u001B[40m_\u001B[0m\u001B[0m|\n",
      "+---------+\n",
      "  (south ,north ,south)\n",
      "Taxi1-YELLOW: Fuel: inf, Location: (4,4), Collided: True\n",
      "Taxi2-RED: Fuel: inf, Location: (4,4), Collided: True\n",
      "Taxi3-WHITE: Fuel: inf, Location: (2,4), Collided: False\n",
      "Passenger1: Location: (0, 4), Destination: (0, 0)\n",
      "Passenger2: Location: (0, 0), Destination: (0, 4)\n"
     ]
    }
   ],
   "source": [
    "collision_env_example.step([0, 1, 0])  # south, north, south\n",
    "collision_env_example.render()"
   ]
  },
  {
   "cell_type": "code",
   "execution_count": 36,
   "metadata": {},
   "outputs": [
    {
     "name": "stdout",
     "output_type": "stream",
     "text": [
      "+---------+\n",
      "|\u001B[35m\u001B[34;1mX\u001B[0m\u001B[0m: |F: :\u001B[35m\u001B[34;1mX\u001B[0m\u001B[0m|\n",
      "| : | : : |\n",
      "| : : : : |\n",
      "| | : | : |\n",
      "|X| :G|X:\u001B[40m\u001B[40m\u001B[40m_\u001B[0m\u001B[0m\u001B[0m|\n",
      "+---------+\n",
      "  (south ,south ,south)\n",
      "Taxi1-YELLOW: Fuel: inf, Location: (4,4), Collided: True\n",
      "Taxi2-RED: Fuel: inf, Location: (4,4), Collided: True\n",
      "Taxi3-WHITE: Fuel: inf, Location: (4,4), Collided: True\n",
      "Passenger1: Location: (0, 4), Destination: (0, 0)\n",
      "Passenger2: Location: (0, 0), Destination: (0, 4)\n"
     ]
    }
   ],
   "source": [
    "collision_env_example.step([0, 0, 0])  # all south\n",
    "collision_env_example.step([0, 0, 0])  # all south\n",
    "collision_env_example.render()"
   ]
  },
  {
   "cell_type": "code",
   "execution_count": null,
   "metadata": {
    "pycharm": {
     "name": "#%%\n"
    }
   },
   "outputs": [],
   "source": [
    "any(collision_env_example.dones)  # is done?\n"
   ]
  },
  {
   "cell_type": "code",
   "execution_count": null,
   "outputs": [],
   "source": [
    "any(collision_env_example.dones)  # is done?"
   ],
   "metadata": {
    "collapsed": false,
    "pycharm": {
     "name": "#%%\n"
    }
   }
  },
  {
   "cell_type": "code",
   "execution_count": 40,
   "metadata": {},
   "outputs": [
    {
     "data": {
      "text/plain": [
       "True"
      ]
     },
     "execution_count": 40,
     "metadata": {},
     "output_type": "execute_result"
    }
   ],
   "source": [
    "any(collision_env_example.dones)  # is done?"
   ]
  }
 ],
 "metadata": {
  "colab": {
   "collapsed_sections": [],
   "name": "Taxi Environment Demonstration.ipynb",
   "provenance": []
  },
  "kernelspec": {
   "display_name": "Python 3",
   "language": "python",
   "name": "python3"
  },
  "language_info": {
   "codemirror_mode": {
    "name": "ipython",
    "version": 3
   },
   "file_extension": ".py",
   "mimetype": "text/x-python",
   "name": "python",
   "nbconvert_exporter": "python",
   "pygments_lexer": "ipython3",
   "version": "3.6.9"
  }
 },
 "nbformat": 4,
 "nbformat_minor": 1
}