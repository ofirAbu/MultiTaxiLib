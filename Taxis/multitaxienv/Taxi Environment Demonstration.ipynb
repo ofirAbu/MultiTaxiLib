{
  "nbformat": 4,
  "nbformat_minor": 0,
  "metadata": {
    "colab": {
      "name": "Taxi Environment Demonstration.ipynb",
      "provenance": [],
      "collapsed_sections": []
    },
    "kernelspec": {
      "display_name": "Python 3",
      "language": "python",
      "name": "python3"
    },
    "language_info": {
      "codemirror_mode": {
        "name": "ipython",
        "version": 3
      },
      "file_extension": ".py",
      "mimetype": "text/x-python",
      "name": "python",
      "nbconvert_exporter": "python",
      "pygments_lexer": "ipython3",
      "version": "3.6.9"
    }
  },
  "cells": [
    {
      "cell_type": "markdown",
      "metadata": {
        "id": "9x5FMGOESs8Y"
      },
      "source": [
        "## Variation on the Taxi-Grid Enviroment"
      ]
    },
    {
      "cell_type": "markdown",
      "metadata": {
        "id": "n2gO4A0WQ3Gy"
      },
      "source": [
        "The multi-taxi environment was created by Kevin Huang and Howie Guo from Harvard College and Ofir Abu from Hebrew University. Thank you so much for their hard work. "
      ]
    },
    {
      "cell_type": "markdown",
      "metadata": {
        "id": "sIKdvT6vSs8Z"
      },
      "source": [
        "### Motivation"
      ]
    },
    {
      "cell_type": "markdown",
      "metadata": {
        "id": "j4CIXTWLSs8a"
      },
      "source": [
        "Our project is based on the taxi gym environment (https://gym.openai.com/envs/Taxi-v3/), which is a basic \"grid-world\" enviroment used for research in artificial intelligence and reinforcement learning."
      ]
    },
    {
      "cell_type": "code",
      "metadata": {
        "id": "OqJ8uXotSs8b",
        "outputId": "fe136584-f400-40a7-a551-5d8b5171050e",
        "colab": {
          "base_uri": "https://localhost:8080/",
          "height": 153
        }
      },
      "source": [
        "import gym\n",
        "\n",
        "env = gym.make(\"Taxi-v3\").env\n",
        "\n",
        "env.reset ()\n",
        "env.render()"
      ],
      "execution_count": null,
      "outputs": [
        {
          "output_type": "stream",
          "text": [
            "+---------+\n",
            "|\u001b[35mR\u001b[0m: | : :G|\n",
            "| : | : : |\n",
            "| : : : : |\n",
            "| | : | :\u001b[43m \u001b[0m|\n",
            "|Y| : |\u001b[34;1mB\u001b[0m: |\n",
            "+---------+\n",
            "\n"
          ],
          "name": "stdout"
        }
      ]
    },
    {
      "cell_type": "markdown",
      "metadata": {
        "id": "YGvTYwNhSs8h"
      },
      "source": [
        "This is original taxi grid enviroment, which is available as part of the OpenAI gym module. The enviroment models a taxi, which moves within the gridworld enviroment with the goal of picking up a passenger and bringing her to her destination.\n",
        "\n",
        "Our modifications on the original enviroment were created with two main\n",
        "goals:  \n",
        "**First**, the original taxi grid enviroment is a single agent enviroment. We were interested in allowing multi-agent reinforcement learning, so we created an option to use multiple taxis.  \n",
        "**Second**, by adding a fuel constraint modification, we were able to test whether agents would be able to consider the long term fuel constraint, and maybe use the environment in limitted resources research situations.  \n",
        "**Third**, our environment can show and allow/restrict for taxis collision.  \n",
        "**Fourth**, we added to the fuel constraint a fuel-type constraint (we can model gas/fuel taxis with suitable fuel stations)."
      ]
    },
    {
      "cell_type": "markdown",
      "metadata": {
        "id": "yEhPGfizSs8i"
      },
      "source": [
        "### Installation"
      ]
    },
    {
      "cell_type": "markdown",
      "metadata": {
        "id": "NBoscLwESs8i"
      },
      "source": [
        "To work with our custom enviroments, the first thing that we want to do is to install them. As the enviroments are packaged together into a module called \"multitaxienv\" which is to be found on the github, it is easy to install all of the modules at once."
      ]
    },
    {
      "cell_type": "code",
      "metadata": {
        "id": "QoHB9ZC5Ss8j",
        "outputId": "c6c90af2-fc7d-4249-8e34-d931038151d3",
        "colab": {
          "base_uri": "https://localhost:8080/",
          "height": 340
        }
      },
      "source": [
        "!pip install git+https://github.com/sarah-keren/MutliTaxiEnv.git --upgrade"
      ],
      "execution_count": null,
      "outputs": [
        {
          "output_type": "stream",
          "text": [
            "Collecting git+https://github.com/sarah-keren/MutliTaxiEnv.git\n",
            "  Cloning https://github.com/sarah-keren/MutliTaxiEnv.git to /tmp/pip-req-build-ycshx639\n",
            "  Running command git clone -q https://github.com/sarah-keren/MutliTaxiEnv.git /tmp/pip-req-build-ycshx639\n",
            "Requirement already satisfied, skipping upgrade: numpy in /usr/local/lib/python3.6/dist-packages (from MultiTaxiEnv==0.2) (1.18.5)\n",
            "Requirement already satisfied, skipping upgrade: gym in /usr/local/lib/python3.6/dist-packages (from MultiTaxiEnv==0.2) (0.17.2)\n",
            "Requirement already satisfied, skipping upgrade: cloudpickle<1.4.0,>=1.2.0 in /usr/local/lib/python3.6/dist-packages (from gym->MultiTaxiEnv==0.2) (1.3.0)\n",
            "Requirement already satisfied, skipping upgrade: scipy in /usr/local/lib/python3.6/dist-packages (from gym->MultiTaxiEnv==0.2) (1.4.1)\n",
            "Requirement already satisfied, skipping upgrade: pyglet<=1.5.0,>=1.4.0 in /usr/local/lib/python3.6/dist-packages (from gym->MultiTaxiEnv==0.2) (1.5.0)\n",
            "Requirement already satisfied, skipping upgrade: future in /usr/local/lib/python3.6/dist-packages (from pyglet<=1.5.0,>=1.4.0->gym->MultiTaxiEnv==0.2) (0.16.0)\n",
            "Building wheels for collected packages: MultiTaxiEnv\n",
            "  Building wheel for MultiTaxiEnv (setup.py) ... \u001b[?25l\u001b[?25hdone\n",
            "  Created wheel for MultiTaxiEnv: filename=MultiTaxiEnv-0.2-cp36-none-any.whl size=8117 sha256=0f23baee05dae777a93e6d5fa72f07c32cb3bad72ed34cec5b18dd021f6b7598\n",
            "  Stored in directory: /tmp/pip-ephem-wheel-cache-h0cf1sdl/wheels/a7/8b/8f/2c7828f791585f08f092f39fb14023ccf64d14a1a3d68143ef\n",
            "Successfully built MultiTaxiEnv\n",
            "Installing collected packages: MultiTaxiEnv\n",
            "  Found existing installation: MultiTaxiEnv 0.2\n",
            "    Uninstalling MultiTaxiEnv-0.2:\n",
            "      Successfully uninstalled MultiTaxiEnv-0.2\n",
            "Successfully installed MultiTaxiEnv-0.2\n"
          ],
          "name": "stdout"
        }
      ]
    },
    {
      "cell_type": "markdown",
      "metadata": {
        "id": "EFeZ_l6mSs8m"
      },
      "source": [
        "You'll note that we have only one calss file. To support all the variations of our environment we use the parameters in the __init__ of our class.\n",
        "\n",
        "After installing the environment, run the following line:"
      ]
    },
    {
      "cell_type": "code",
      "metadata": {
        "id": "TrGFEDyBUGBH",
        "outputId": "55456bbb-ef0c-4618-94e2-c217f5d86aaa",
        "colab": {
          "base_uri": "https://localhost:8080/",
          "height": 51
        }
      },
      "source": [
        "# used for debugging purposes\n",
        "%load_ext autoreload\n",
        "%autoreload 2\n",
        "from multitaxienv.taxi_environment import TaxiEnv"
      ],
      "execution_count": null,
      "outputs": [
        {
          "output_type": "stream",
          "text": [
            "The autoreload extension is already loaded. To reload it, use:\n",
            "  %reload_ext autoreload\n"
          ],
          "name": "stdout"
        }
      ]
    },
    {
      "cell_type": "markdown",
      "metadata": {
        "id": "EYbZlduoUGBK"
      },
      "source": [
        "### Initializing Environment - Hyper-Parameters of the Class"
      ]
    },
    {
      "cell_type": "code",
      "metadata": {
        "id": "gyg4Nwi5UGBL"
      },
      "source": [
        "env = TaxiEnv(num_taxis = 2, num_passengers = 2, max_fuel = None,\n",
        "                 taxis_capacity = None, collision_sensitive_domain = False,\n",
        "                 fuel_type_list = None, option_to_stand_by = True)"
      ],
      "execution_count": null,
      "outputs": []
    },
    {
      "cell_type": "markdown",
      "metadata": {
        "id": "ZSNAoVWgUGBR"
      },
      "source": [
        "1. *num_taxis* - default is 2, but you can select any number $\\in$ $[1, \\infty)$.\n",
        "2. *num_passengers* - same.\n",
        "3. *max_fuel* - a list where the i'th element is the max fuel of taxi number i. Each taxi starts with max fuel. Default is **None** which sets fuel limit to np.inf (no fuel model).\n",
        "4. *taxis_capacity* - A list with the passengers limit for each taxi, default is 1 for each taxi.\n",
        "5. *collision_sensitive_domain* - Boolean to specify wether collisions will be shown and affect the domain (True) or will be ignored (False).\n",
        "6. *fuel_type_list* - The fuel type ('**F**uel / '**G**as' of each taxi, default is 'F'.\n",
        "7. *option_to_stand_by* - Can taxis stand in place (True), or not (False), default is True."
      ]
    },
    {
      "cell_type": "code",
      "metadata": {
        "id": "s9RME-bAUGBR",
        "outputId": "d668fd54-db78-4dea-ce1f-2d39b001df5f",
        "colab": {
          "base_uri": "https://localhost:8080/",
          "height": 204
        }
      },
      "source": [
        "env = TaxiEnv()\n",
        "env.reset()\n",
        "env.s = 1022\n",
        "env.render()"
      ],
      "execution_count": null,
      "outputs": [
        {
          "output_type": "stream",
          "text": [
            "+---------+\n",
            "|\u001b[35mX\u001b[0m:\u001b[43m_\u001b[0m|F: :\u001b[34;1m\u001b[34;1mX\u001b[0m\u001b[0m|\n",
            "| : | : : |\n",
            "| :\u001b[41m_\u001b[0m: : : |\n",
            "| | : | : |\n",
            "|\u001b[35mX\u001b[0m| :G|X: |\n",
            "+---------+\n",
            "Taxi1-YELLOW: Fuel: inf, Location: (0,1), Collided: False\n",
            "Taxi2-RED: Fuel: inf, Location: (2,1), Collided: False\n",
            "Passenger1: Location: (0, 4), Destination: (0, 0)\n",
            "Passenger2: Location: (0, 4), Destination: (4, 0)\n"
          ],
          "name": "stdout"
        }
      ]
    },
    {
      "cell_type": "markdown",
      "metadata": {
        "id": "0OJAIz5bUGBV"
      },
      "source": [
        "Here we initialized a domain with the default values. As we can see:  \n",
        "We have **2 taxis** represented in the highlighted boxes, we can see wich taxi in which color by the description printed below the map.  \n",
        "We also have **np.inf** fuel limit.  \n",
        "There are also **2 passengers** at the X marked positions with destination at X colored in *magenta*.\n",
        "\n",
        "Note that we save for each taxi wether it had been collided or not."
      ]
    },
    {
      "cell_type": "markdown",
      "metadata": {
        "id": "xzHF0fWnUGBW"
      },
      "source": [
        "### Action Space of the Environment"
      ]
    },
    {
      "cell_type": "code",
      "metadata": {
        "id": "FlFz3umPUGBW",
        "outputId": "972f76d6-223a-429a-9567-a30b4cd09864",
        "colab": {
          "base_uri": "https://localhost:8080/",
          "height": 187
        }
      },
      "source": [
        "env.get_available_actions_dictionary()[1]"
      ],
      "execution_count": null,
      "outputs": [
        {
          "output_type": "execute_result",
          "data": {
            "text/plain": [
              "{0: 'south',\n",
              " 1: 'north',\n",
              " 2: 'east',\n",
              " 3: 'west',\n",
              " 4: 'pickup',\n",
              " 5: 'dropoff',\n",
              " 6: 'turn_engine_on',\n",
              " 7: 'turn_engine_off',\n",
              " 8: 'standby',\n",
              " 9: 'refuel'}"
            ]
          },
          "metadata": {
            "tags": []
          },
          "execution_count": 9
        }
      ]
    },
    {
      "cell_type": "markdown",
      "metadata": {
        "id": "TVlcKW-AUGBZ"
      },
      "source": [
        "**get_available_actions_dictionary()** returns a tuple where:  \n",
        "1. 1st element - available action indexes that the specific initialized domain supports.\n",
        "2. 2nd element - the dictionary above which specify all available actions' names and it's indexes.  \n",
        "\n",
        "*Note that in no-fuel model (induced by max_fuel = np.inf) and in no option to standby model - we won't be able to use actions: 9 and 6, 7, 8 respectively.*"
      ]
    },
    {
      "cell_type": "code",
      "metadata": {
        "id": "YGXi7abGUGBa",
        "outputId": "94af2700-c0d5-464b-c2d5-877057b1d0c7",
        "colab": {
          "base_uri": "https://localhost:8080/",
          "height": 34
        }
      },
      "source": [
        "env.get_available_actions_dictionary()[0]"
      ],
      "execution_count": null,
      "outputs": [
        {
          "output_type": "execute_result",
          "data": {
            "text/plain": [
              "[0, 1, 2, 3, 4, 5, 6, 7, 8]"
            ]
          },
          "metadata": {
            "tags": []
          },
          "execution_count": 10
        }
      ]
    },
    {
      "cell_type": "markdown",
      "metadata": {
        "id": "4bPhRuJ7UGBf"
      },
      "source": [
        "At the first element returned we get the action space available to us on the initialized domain.  \n",
        "**Those indexes are the actions we send to the domain when we want to make a step!**"
      ]
    },
    {
      "cell_type": "markdown",
      "metadata": {
        "id": "aBV-75fhSs8v"
      },
      "source": [
        "Here we send actions \"east\" for each one of our 2 taxis.  \n",
        "We get the environment's next state which is build as: **taxis locations, current_fuel_list, passengers_start_locations, destinations, passengers_status**."
      ]
    },
    {
      "cell_type": "code",
      "metadata": {
        "id": "E15ZVBhuSs8v",
        "outputId": "776028c1-fd8c-42e1-c396-b2010c1016ea",
        "colab": {
          "base_uri": "https://localhost:8080/",
          "height": 34
        }
      },
      "source": [
        "state, reward, done = env.step([2, 2])\n",
        "print(\"The next state is: \" + str(state) + \", the reward for the last action is: \" + str(reward) + \", and the episode is \"+ {True: \"\", False: \"not\"}[done]  + \" done.\")"
      ],
      "execution_count": null,
      "outputs": [
        {
          "output_type": "stream",
          "text": [
            "The next state is: [[[0, 1], [2, 2]], [inf, inf], [[0, 4], [0, 4]], [[0, 0], [4, 0]], [0, 0]], the reward for the last action is: [-20, -1], and the episode is not done.\n"
          ],
          "name": "stdout"
        }
      ]
    },
    {
      "cell_type": "markdown",
      "metadata": {
        "id": "BSeB3yZcSs8z"
      },
      "source": [
        "Generally to preform an action, we use the step function. This returns a tuple which includes the next state, the reward and whether the episode has ended or not.  \n",
        "In this environment, the episode ends when either:\n",
        "1. *all passengers reached their destinations*.\n",
        "2. *all taxis are out of fuel*.\n",
        "3. *all taxis collided*.  "
      ]
    },
    {
      "cell_type": "markdown",
      "metadata": {
        "id": "LiOfBOHGUGCI"
      },
      "source": [
        "The ***rewards***, are given in the config.py as below:"
      ]
    },
    {
      "cell_type": "code",
      "metadata": {
        "id": "9DGVQUBVUGCJ"
      },
      "source": [
        "taxi_env_rewards = dict(\n",
        "    step=-1,\n",
        "    no_fuel=-20,\n",
        "    bad_pickup=-15,\n",
        "    bad_dropoff=-15,\n",
        "    bad_refuel=-10,\n",
        "    pickup=-1,\n",
        "    standby_engine_off=-1,\n",
        "    turn_engine_on=-1,\n",
        "    turn_engine_off=-1,\n",
        "    standby_engine_on=-1,\n",
        "    intermediate_dropoff=-10,\n",
        "    final_dropoff=100,\n",
        "    hit_wall=-20,\n",
        "    collision=-30,\n",
        ")"
      ],
      "execution_count": null,
      "outputs": []
    },
    {
      "cell_type": "markdown",
      "metadata": {
        "id": "RMlOvMyKUGCM"
      },
      "source": [
        "Now let's try to navigate to the fuel station:"
      ]
    },
    {
      "cell_type": "code",
      "metadata": {
        "id": "77QnMfmiUGCM",
        "outputId": "e6c3fc53-2139-43ec-fb32-751979067273",
        "colab": {
          "base_uri": "https://localhost:8080/",
          "height": 221
        }
      },
      "source": [
        "env.render()"
      ],
      "execution_count": null,
      "outputs": [
        {
          "output_type": "stream",
          "text": [
            "+---------+\n",
            "|\u001b[35mX\u001b[0m:\u001b[43m_\u001b[0m|F: :\u001b[34;1m\u001b[34;1mX\u001b[0m\u001b[0m|\n",
            "| : | : : |\n",
            "| : :\u001b[41m_\u001b[0m: : |\n",
            "| | : | : |\n",
            "|\u001b[35mX\u001b[0m| :G|X: |\n",
            "+---------+\n",
            "  (east ,east)\n",
            "Taxi1-YELLOW: Fuel: inf, Location: (0,1), Collided: False\n",
            "Taxi2-RED: Fuel: inf, Location: (2,2), Collided: False\n",
            "Passenger1: Location: (0, 4), Destination: (0, 0)\n",
            "Passenger2: Location: (0, 4), Destination: (4, 0)\n"
          ],
          "name": "stdout"
        }
      ]
    },
    {
      "cell_type": "code",
      "metadata": {
        "id": "xvBszuMnUGCR",
        "outputId": "1961cee5-e5fe-4f37-854e-2024e91f710b",
        "colab": {
          "base_uri": "https://localhost:8080/",
          "height": 221
        }
      },
      "source": [
        "env.step([1, 0])\n",
        "env.render()"
      ],
      "execution_count": null,
      "outputs": [
        {
          "output_type": "stream",
          "text": [
            "+---------+\n",
            "|\u001b[35mX\u001b[0m:\u001b[43m_\u001b[0m|F: :\u001b[34;1m\u001b[34;1mX\u001b[0m\u001b[0m|\n",
            "| : | : : |\n",
            "| : : : : |\n",
            "| | : | : |\n",
            "|\u001b[35mX\u001b[0m| :\u001b[41mG\u001b[0m|X: |\n",
            "+---------+\n",
            "  (north ,south)\n",
            "Taxi1-YELLOW: Fuel: inf, Location: (0,1), Collided: False\n",
            "Taxi2-RED: Fuel: inf, Location: (4,2), Collided: False\n",
            "Passenger1: Location: (0, 4), Destination: (0, 0)\n",
            "Passenger2: Location: (0, 4), Destination: (4, 0)\n"
          ],
          "name": "stdout"
        }
      ]
    },
    {
      "cell_type": "markdown",
      "metadata": {
        "id": "T-vTP_nCUGCV"
      },
      "source": [
        "### **Now let's play with a limtted fuel mode**  \n",
        "Notice,  \n",
        "1. in the map-description as the fuel status changes for the taxi that we move.\n",
        "2. The taxi is able to refuel only at stations with a suitable fuel type as defined for it in __init__."
      ]
    },
    {
      "cell_type": "code",
      "metadata": {
        "id": "8M5CnijdUGCV"
      },
      "source": [
        "env_limitted_fuel = TaxiEnv(num_taxis = 2, num_passengers = 2, max_fuel = [5, 5],\n",
        "                            taxis_capacity = None, collision_sensitive_domain = False,\n",
        "                            fuel_type_list = None, option_to_stand_by = True)"
      ],
      "execution_count": null,
      "outputs": []
    },
    {
      "cell_type": "code",
      "metadata": {
        "id": "rTI6NTKfUGCY",
        "outputId": "70cdc864-4a09-408e-f3c7-8d9d54630cfe",
        "colab": {
          "base_uri": "https://localhost:8080/",
          "height": 204
        }
      },
      "source": [
        "env_limitted_fuel.reset()\n",
        "env_limitted_fuel.render()"
      ],
      "execution_count": null,
      "outputs": [
        {
          "output_type": "stream",
          "text": [
            "+---------+\n",
            "|X: |F: :\u001b[35mX\u001b[0m|\n",
            "| : | : : |\n",
            "| :\u001b[41m_\u001b[0m: : : |\n",
            "| | : | : |\n",
            "|\u001b[35m\u001b[34;1mX\u001b[0m\u001b[0m|\u001b[43m_\u001b[0m:G|\u001b[34;1mX\u001b[0m: |\n",
            "+---------+\n",
            "Taxi1-YELLOW: Fuel: 5, Location: (4,1), Collided: False\n",
            "Taxi2-RED: Fuel: 5, Location: (2,1), Collided: False\n",
            "Passenger1: Location: (4, 3), Destination: (4, 0)\n",
            "Passenger2: Location: (4, 0), Destination: (0, 4)\n"
          ],
          "name": "stdout"
        }
      ]
    },
    {
      "cell_type": "markdown",
      "metadata": {
        "id": "IuYHLwbFSs82",
        "pycharm": {
          "name": "#%% md\n"
        }
      },
      "source": [
        "We will now navigate to the fuel station and refuel.\n",
        "Notice how the fuel of each taxi changes as it moves."
      ]
    },
    {
      "cell_type": "code",
      "metadata": {
        "pycharm": {
          "name": "#%%\n"
        },
        "id": "fyy435PzUGCb",
        "outputId": "58fc903f-f02b-43c7-97d7-8d2d8e73f9cf",
        "colab": {
          "base_uri": "https://localhost:8080/",
          "height": 221
        }
      },
      "source": [
        "env_limitted_fuel.step([0, 3])  # south, west\n",
        "env_limitted_fuel.step([0, 3])  # south, west\n",
        "env_limitted_fuel.render()"
      ],
      "execution_count": null,
      "outputs": [
        {
          "output_type": "stream",
          "text": [
            "+---------+\n",
            "|X: |F: :\u001b[35mX\u001b[0m|\n",
            "| : | : : |\n",
            "|\u001b[41m_\u001b[0m: : : : |\n",
            "| | : | : |\n",
            "|\u001b[35m\u001b[34;1mX\u001b[0m\u001b[0m|\u001b[43m_\u001b[0m:G|\u001b[34;1mX\u001b[0m: |\n",
            "+---------+\n",
            "  (south ,west)\n",
            "Taxi1-YELLOW: Fuel: 5, Location: (4,1), Collided: False\n",
            "Taxi2-RED: Fuel: 4, Location: (2,0), Collided: False\n",
            "Passenger1: Location: (4, 3), Destination: (4, 0)\n",
            "Passenger2: Location: (4, 0), Destination: (0, 4)\n"
          ],
          "name": "stdout"
        }
      ]
    },
    {
      "cell_type": "code",
      "metadata": {
        "id": "05-zanYVUGCe",
        "outputId": "128b83dc-ef34-4a1e-aaac-fc8968181c7d",
        "colab": {
          "base_uri": "https://localhost:8080/",
          "height": 221
        }
      },
      "source": [
        "env_limitted_fuel.step([2, 9])  # east, refuel\n",
        "env_limitted_fuel.render()"
      ],
      "execution_count": null,
      "outputs": [
        {
          "output_type": "stream",
          "text": [
            "+---------+\n",
            "|\u001b[35m\u001b[34;1mX\u001b[0m\u001b[0m: |\u001b[41mF\u001b[0m: :\u001b[35m\u001b[34;1mX\u001b[0m\u001b[0m|\n",
            "| : | : : |\n",
            "| : : : : |\n",
            "| | : | : |\n",
            "|X| :G|X:\u001b[43m_\u001b[0m|\n",
            "+---------+\n",
            "  (east ,refuel)\n",
            "Taxi1-YELLOW: Fuel: 3, Location: (4,4), Collided: False\n",
            "Taxi2-RED: Fuel: 5, Location: (0,2), Collided: False\n",
            "Passenger1: Location: (0, 4), Destination: (0, 0)\n",
            "Passenger2: Location: (0, 0), Destination: (0, 4)\n"
          ],
          "name": "stdout"
        }
      ]
    },
    {
      "cell_type": "code",
      "metadata": {
        "pycharm": {
          "name": "#%%\n"
        },
        "id": "xzNteZIEUGCh",
        "outputId": "7023ea3f-264f-45e0-ea65-c67e3acb27be",
        "colab": {
          "base_uri": "https://localhost:8080/",
          "height": 221
        }
      },
      "source": [
        "env_limitted_fuel.step([1, 0])\n",
        "env_limitted_fuel.render()"
      ],
      "execution_count": null,
      "outputs": [
        {
          "output_type": "stream",
          "text": [
            "+---------+\n",
            "|\u001b[35mX\u001b[0m: |F: :X|\n",
            "| : | : : |\n",
            "| : : : : |\n",
            "| |\u001b[41m_\u001b[0m:\u001b[43m_\u001b[0m| : |\n",
            "|\u001b[35mX\u001b[0m| :G|\u001b[34;1m\u001b[34;1mX\u001b[0m\u001b[0m: |\n",
            "+---------+\n",
            "  (north ,south)\n",
            "Taxi1-YELLOW: Fuel: 4, Location: (3,2), Collided: False\n",
            "Taxi2-RED: Fuel: 2, Location: (3,1), Collided: False\n",
            "Passenger1: Location: (4, 3), Destination: (0, 0)\n",
            "Passenger2: Location: (4, 3), Destination: (4, 0)\n"
          ],
          "name": "stdout"
        }
      ]
    },
    {
      "cell_type": "code",
      "metadata": {
        "pycharm": {
          "name": "#%%\n"
        },
        "id": "QojcNJS2UGCk",
        "outputId": "95c52112-4de8-42ad-e0e2-5574fb5b9a5e",
        "colab": {
          "base_uri": "https://localhost:8080/",
          "height": 221
        }
      },
      "source": [
        "state, reward, done = env_limitted_fuel.step([1, 9])\n",
        "env_limitted_fuel.render()"
      ],
      "execution_count": null,
      "outputs": [
        {
          "output_type": "stream",
          "text": [
            "+---------+\n",
            "|\u001b[35mX\u001b[0m: |F: :X|\n",
            "| : | : : |\n",
            "| : :\u001b[43m_\u001b[0m: : |\n",
            "| |\u001b[41m_\u001b[0m: | : |\n",
            "|\u001b[35mX\u001b[0m| :G|\u001b[34;1m\u001b[34;1mX\u001b[0m\u001b[0m: |\n",
            "+---------+\n",
            "  (north ,refuel)\n",
            "Taxi1-YELLOW: Fuel: 3, Location: (2,2), Collided: False\n",
            "Taxi2-RED: Fuel: 2, Location: (3,1), Collided: False\n",
            "Passenger1: Location: (4, 3), Destination: (0, 0)\n",
            "Passenger2: Location: (4, 3), Destination: (4, 0)\n"
          ],
          "name": "stdout"
        }
      ]
    },
    {
      "cell_type": "markdown",
      "metadata": {
        "id": "_zntV97jUGCn"
      },
      "source": [
        "Here, since we have refuelled, the red taxi is at full. Another thing to note is that the state of the environment is encoded using a single number that represents the state. However, sometimes it may be useful to decode what that number actually means (for example, when using deep-Q learning). We can do that using the decode function."
      ]
    },
    {
      "cell_type": "markdown",
      "metadata": {
        "id": "uI60U2tuSs86"
      },
      "source": [
        "Here, since we have refuelled, we are back at full."
      ]
    },
    {
      "cell_type": "markdown",
      "metadata": {
        "id": "AClb59v6Ss8-"
      },
      "source": [
        "### Using Different Map  \n",
        "You can also input your own map as a list of strings and specify the maximum fuel. The map must be formatted in the same way as above, with '+'at the corners and '-', '|' specifying the boundaries. You can have as many destination and fuel stations as you want!"
      ]
    },
    {
      "cell_type": "code",
      "metadata": {
        "id": "rWBVp4TQSs8-"
      },
      "source": [
        "custom_map = [\n",
        "    '+---------------+',\n",
        "    '| : :X| :F: : : |',\n",
        "    '|X: : | : | :X| |',\n",
        "    '| : : : : : : | |',\n",
        "    '| :X:F| :X| : :X|',\n",
        "    '+---------------+',\n",
        "]"
      ],
      "execution_count": null,
      "outputs": []
    },
    {
      "cell_type": "code",
      "metadata": {
        "id": "3DwdpeQ7Ss9B",
        "scrolled": true,
        "outputId": "de8b8c8c-83b4-4614-f40f-2549d52e73f1",
        "colab": {
          "base_uri": "https://localhost:8080/",
          "height": 187
        }
      },
      "source": [
        "env_new_map = TaxiEnv(domain_map=custom_map)\n",
        "env_new_map.reset()\n",
        "env_new_map.render()"
      ],
      "execution_count": null,
      "outputs": [
        {
          "output_type": "stream",
          "text": [
            "+---------------+\n",
            "| : :\u001b[35m\u001b[35mX\u001b[0m\u001b[0m|\u001b[43m_\u001b[0m:F: : : |\n",
            "|\u001b[34;1mX\u001b[0m: : | : | :\u001b[34;1mX\u001b[0m| |\n",
            "| : : : : : :\u001b[41m_\u001b[0m| |\n",
            "| :X:F| :X| : :X|\n",
            "+---------------+\n",
            "Taxi1-YELLOW: Fuel: inf, Location: (0,3), Collided: False\n",
            "Taxi2-RED: Fuel: inf, Location: (2,6), Collided: False\n",
            "Passenger1: Location: (1, 0), Destination: (0, 2)\n",
            "Passenger2: Location: (1, 6), Destination: (0, 2)\n"
          ],
          "name": "stdout"
        }
      ]
    },
    {
      "cell_type": "markdown",
      "metadata": {
        "id": "QBFRc_78UGCt"
      },
      "source": [
        "### Driving Passengers\n",
        "\n",
        "Here we'll show how the taxi can collect a passenger and drop it off, things to notice:  \n",
        "1. Passenger's location is changed when he's picked up and dropped off.\n",
        "2. The taxi can only collect as much passengers as it's capacity.\n",
        "3. The passenger can be dropped off anywhere free on the map."
      ]
    },
    {
      "cell_type": "code",
      "metadata": {
        "id": "DQZfhpDsUGCu"
      },
      "source": [
        "passengers_example_env = TaxiEnv(num_taxis = 2, num_passengers = 2, max_fuel = [5, 5],\n",
        "                            taxis_capacity = None, collision_sensitive_domain = False,\n",
        "                            fuel_type_list = None, option_to_stand_by = True)"
      ],
      "execution_count": null,
      "outputs": []
    },
    {
      "cell_type": "code",
      "metadata": {
        "id": "eP0m9AhdUGCx",
        "outputId": "5c82367c-a903-4b95-965b-55551c38bf16",
        "colab": {
          "base_uri": "https://localhost:8080/",
          "height": 204
        }
      },
      "source": [
        "passengers_example_env.reset()\n",
        "passengers_example_env.render()"
      ],
      "execution_count": null,
      "outputs": [
        {
          "output_type": "stream",
          "text": [
            "+---------+\n",
            "|\u001b[35mX\u001b[0m: |F: :\u001b[34;1mX\u001b[0m|\n",
            "| : | : :\u001b[41m_\u001b[0m|\n",
            "| : : : :\u001b[43m_\u001b[0m|\n",
            "| | : | : |\n",
            "|\u001b[34;1mX\u001b[0m| :G|\u001b[35mX\u001b[0m: |\n",
            "+---------+\n",
            "Taxi1-YELLOW: Fuel: 5, Location: (2,4), Collided: False\n",
            "Taxi2-RED: Fuel: 5, Location: (1,4), Collided: False\n",
            "Passenger1: Location: (0, 4), Destination: (4, 3)\n",
            "Passenger2: Location: (4, 0), Destination: (0, 0)\n"
          ],
          "name": "stdout"
        }
      ]
    },
    {
      "cell_type": "code",
      "metadata": {
        "id": "-IJYClaVUGC1",
        "outputId": "7b51b4cc-6010-42dc-c6dc-1dbdbccc1725",
        "colab": {
          "base_uri": "https://localhost:8080/",
          "height": 221
        }
      },
      "source": [
        "passengers_example_env.step([1, 1])  # north, north\n",
        "passengers_example_env.render()"
      ],
      "execution_count": null,
      "outputs": [
        {
          "output_type": "stream",
          "text": [
            "+---------+\n",
            "|\u001b[35mX\u001b[0m: |F: :\u001b[41m\u001b[34;1mX\u001b[0m\u001b[0m|\n",
            "| : | : :\u001b[43m_\u001b[0m|\n",
            "| : : : : |\n",
            "| | : | : |\n",
            "|\u001b[34;1mX\u001b[0m| :G|\u001b[35mX\u001b[0m: |\n",
            "+---------+\n",
            "  (north ,north)\n",
            "Taxi1-YELLOW: Fuel: 4, Location: (1,4), Collided: False\n",
            "Taxi2-RED: Fuel: 4, Location: (0,4), Collided: False\n",
            "Passenger1: Location: (0, 4), Destination: (4, 3)\n",
            "Passenger2: Location: (4, 0), Destination: (0, 0)\n"
          ],
          "name": "stdout"
        }
      ]
    },
    {
      "cell_type": "code",
      "metadata": {
        "id": "HOQGGAVoUGC4",
        "outputId": "33adae69-fe0e-4950-bce4-65db90a48684",
        "colab": {
          "base_uri": "https://localhost:8080/",
          "height": 221
        }
      },
      "source": [
        "passengers_example_env.step([4, 1])  # south, pickup\n",
        "passengers_example_env.render()"
      ],
      "execution_count": null,
      "outputs": [
        {
          "output_type": "stream",
          "text": [
            "+---------+\n",
            "|\u001b[35mX\u001b[0m: |F: :\u001b[41m\u001b[34;1mX\u001b[0m\u001b[0m|\n",
            "| : | : :\u001b[43m_\u001b[0m|\n",
            "| : : : : |\n",
            "| | : | : |\n",
            "|\u001b[34;1mX\u001b[0m| :G|\u001b[35mX\u001b[0m: |\n",
            "+---------+\n",
            "  (pickup ,north)\n",
            "Taxi1-YELLOW: Fuel: 4, Location: (1,4), Collided: False\n",
            "Taxi2-RED: Fuel: 4, Location: (0,4), Collided: False\n",
            "Passenger1: Location: (0, 4), Destination: (4, 3)\n",
            "Passenger2: Location: (4, 0), Destination: (0, 0)\n"
          ],
          "name": "stdout"
        }
      ]
    },
    {
      "cell_type": "code",
      "metadata": {
        "id": "pQzVQWoMUGC7",
        "outputId": "83033319-fb3e-4fad-a2ea-391fa209a382",
        "colab": {
          "base_uri": "https://localhost:8080/",
          "height": 221
        }
      },
      "source": [
        "passengers_example_env.step([0, 1])  # south, north\n",
        "passengers_example_env.render()"
      ],
      "execution_count": null,
      "outputs": [
        {
          "output_type": "stream",
          "text": [
            "+---------+\n",
            "|\u001b[35mX\u001b[0m: |F: :\u001b[41m\u001b[34;1mX\u001b[0m\u001b[0m|\n",
            "| : | : : |\n",
            "| : : : :\u001b[43m_\u001b[0m|\n",
            "| | : | : |\n",
            "|\u001b[34;1mX\u001b[0m| :G|\u001b[35mX\u001b[0m: |\n",
            "+---------+\n",
            "  (south ,north)\n",
            "Taxi1-YELLOW: Fuel: 3, Location: (2,4), Collided: False\n",
            "Taxi2-RED: Fuel: 4, Location: (0,4), Collided: False\n",
            "Passenger1: Location: (0, 4), Destination: (4, 3)\n",
            "Passenger2: Location: (4, 0), Destination: (0, 0)\n"
          ],
          "name": "stdout"
        }
      ]
    },
    {
      "cell_type": "code",
      "metadata": {
        "id": "Fa1ainHpUGC9",
        "outputId": "b9f241c2-a1b5-4dfd-9788-d3d2540ac789",
        "colab": {
          "base_uri": "https://localhost:8080/",
          "height": 221
        }
      },
      "source": [
        "passengers_example_env.step([5, 1])  # dropoff, north\n",
        "passengers_example_env.render()"
      ],
      "execution_count": null,
      "outputs": [
        {
          "output_type": "stream",
          "text": [
            "+---------+\n",
            "|\u001b[35mX\u001b[0m: |F: :\u001b[41m\u001b[34;1mX\u001b[0m\u001b[0m|\n",
            "| : | : : |\n",
            "| : : : :\u001b[43m_\u001b[0m|\n",
            "| | : | : |\n",
            "|\u001b[34;1mX\u001b[0m| :G|\u001b[35mX\u001b[0m: |\n",
            "+---------+\n",
            "  (dropoff ,north)\n",
            "Taxi1-YELLOW: Fuel: 3, Location: (2,4), Collided: False\n",
            "Taxi2-RED: Fuel: 4, Location: (0,4), Collided: False\n",
            "Passenger1: Location: (0, 4), Destination: (4, 3)\n",
            "Passenger2: Location: (4, 0), Destination: (0, 0)\n"
          ],
          "name": "stdout"
        }
      ]
    },
    {
      "cell_type": "markdown",
      "metadata": {
        "id": "9PeqAMELUGC_"
      },
      "source": [
        "### Collisions - Allow or Enforce?"
      ]
    },
    {
      "cell_type": "markdown",
      "metadata": {
        "id": "AF7T13LPUGDA"
      },
      "source": [
        "By using the hyper-parameter *collision_sensitive_model* at __init__, we can choose how to treat collisions.\n",
        "We'll demonstrate a different case of collision in the environment, but the important things to remember are:  \n",
        "1. When taxis can standby and the current step is about to cause a collision - **the later taxi to take action will be forced to standby**.\n",
        "2. when all taxis are collided - the domain is done.\n",
        "\n",
        "The collision status is printed in every taxi's status."
      ]
    },
    {
      "cell_type": "code",
      "metadata": {
        "id": "1yZTh_WZUGDB"
      },
      "source": [
        "import numpy as np\n",
        "collision_env_example = TaxiEnv(num_taxis = 3, num_passengers = 2, max_fuel = [np.inf]*3,\n",
        "                            taxis_capacity = None, collision_sensitive_domain = True,\n",
        "                            fuel_type_list = None, option_to_stand_by = False)"
      ],
      "execution_count": null,
      "outputs": []
    },
    {
      "cell_type": "code",
      "metadata": {
        "id": "83bdJDbSUGDF",
        "outputId": "c9b3da22-a4d8-49ff-d8fd-87677b144f79",
        "colab": {
          "base_uri": "https://localhost:8080/",
          "height": 221
        }
      },
      "source": [
        "collision_env_example.reset()\n",
        "collision_env_example.render()"
      ],
      "execution_count": null,
      "outputs": [
        {
          "output_type": "stream",
          "text": [
            "+---------+\n",
            "|X: |\u001b[43mF\u001b[0m: :\u001b[35mX\u001b[0m|\n",
            "| : | : : |\n",
            "| : : :\u001b[47m_\u001b[0m: |\n",
            "| | : | :\u001b[41m_\u001b[0m|\n",
            "|\u001b[35m\u001b[34;1mX\u001b[0m\u001b[0m| :G|\u001b[34;1mX\u001b[0m: |\n",
            "+---------+\n",
            "Taxi1-YELLOW: Fuel: inf, Location: (0,2), Collided: False\n",
            "Taxi2-RED: Fuel: inf, Location: (3,4), Collided: False\n",
            "Taxi3-WHITE: Fuel: inf, Location: (2,3), Collided: False\n",
            "Passenger1: Location: (4, 3), Destination: (4, 0)\n",
            "Passenger2: Location: (4, 0), Destination: (0, 4)\n"
          ],
          "name": "stdout"
        }
      ]
    },
    {
      "cell_type": "code",
      "metadata": {
        "id": "-oxQnB6YUGDI",
        "outputId": "ff3920fd-9fcf-4553-b311-4e15c357d5af",
        "colab": {
          "base_uri": "https://localhost:8080/",
          "height": 238
        }
      },
      "source": [
        "collision_env_example.step([0, 1, 0])  # south, north, south\n",
        "collision_env_example.render()"
      ],
      "execution_count": null,
      "outputs": [
        {
          "output_type": "stream",
          "text": [
            "+---------+\n",
            "|X: |F: :\u001b[35mX\u001b[0m|\n",
            "| : |\u001b[43m_\u001b[0m: : |\n",
            "| : : : :\u001b[41m_\u001b[0m|\n",
            "| | : |\u001b[47m_\u001b[0m: |\n",
            "|\u001b[35m\u001b[34;1mX\u001b[0m\u001b[0m| :G|\u001b[34;1mX\u001b[0m: |\n",
            "+---------+\n",
            "  (south ,north ,south)\n",
            "Taxi1-YELLOW: Fuel: inf, Location: (1,2), Collided: False\n",
            "Taxi2-RED: Fuel: inf, Location: (2,4), Collided: False\n",
            "Taxi3-WHITE: Fuel: inf, Location: (3,3), Collided: False\n",
            "Passenger1: Location: (4, 3), Destination: (4, 0)\n",
            "Passenger2: Location: (4, 0), Destination: (0, 4)\n"
          ],
          "name": "stdout"
        }
      ]
    },
    {
      "cell_type": "code",
      "metadata": {
        "id": "RGT8w9UIUGDL",
        "outputId": "f37da03a-2a00-4075-bd64-e594ad066b1f",
        "colab": {
          "base_uri": "https://localhost:8080/",
          "height": 238
        }
      },
      "source": [
        "collision_env_example.step([0, 0, 0])  # all south\n",
        "collision_env_example.step([0, 0, 0])  # all south\n",
        "collision_env_example.render()"
      ],
      "execution_count": null,
      "outputs": [
        {
          "output_type": "stream",
          "text": [
            "+---------+\n",
            "|X: |F: :\u001b[35mX\u001b[0m|\n",
            "| : | : : |\n",
            "| : : : : |\n",
            "| | :\u001b[43m_\u001b[0m| : |\n",
            "|\u001b[35m\u001b[34;1mX\u001b[0m\u001b[0m| :G|\u001b[47m\u001b[34;1mX\u001b[0m\u001b[0m:\u001b[41m_\u001b[0m|\n",
            "+---------+\n",
            "  (south ,south ,south)\n",
            "Taxi1-YELLOW: Fuel: inf, Location: (3,2), Collided: False\n",
            "Taxi2-RED: Fuel: inf, Location: (4,4), Collided: False\n",
            "Taxi3-WHITE: Fuel: inf, Location: (4,3), Collided: False\n",
            "Passenger1: Location: (4, 3), Destination: (4, 0)\n",
            "Passenger2: Location: (4, 0), Destination: (0, 4)\n"
          ],
          "name": "stdout"
        }
      ]
    },
    {
      "cell_type": "code",
      "metadata": {
        "id": "1JZ0pg5RRhOk"
      },
      "source": [
        ""
      ],
      "execution_count": null,
      "outputs": []
    }
  ]
}