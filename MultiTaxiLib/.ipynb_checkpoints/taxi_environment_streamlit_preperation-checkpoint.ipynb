{
 "cells": [
  {
   "cell_type": "code",
   "execution_count": 1,
   "metadata": {},
   "outputs": [],
   "source": [
    "%reload_ext autoreload\n",
    "%autoreload\n",
    "\n",
    "import os, sys\n",
    "dir2 = os.path.abspath('/home/ofir/PycharmProjects/DFC/Domains')\n",
    "dir1 = os.path.dirname(dir2)\n",
    "if not dir1 in sys.path: sys.path.append(dir1)\n"
   ]
  },
  {
   "cell_type": "code",
   "execution_count": 4,
   "metadata": {},
   "outputs": [],
   "source": [
    "from Domains.Taxis.multitaxienv.taxi_environment import TaxiEnv"
   ]
  },
  {
   "cell_type": "code",
   "execution_count": 3,
   "metadata": {},
   "outputs": [],
   "source": [
    "import matplotlib.pyplot as plt\n",
    "from Domains.Taxis.multitaxienv.taxi_utils import rendering_functions\n",
    "from Domains.Taxis.multitaxienv import config"
   ]
  },
  {
   "cell_type": "code",
   "execution_count": 4,
   "metadata": {},
   "outputs": [],
   "source": [
    "def snapshot_environment(environment_instance: TaxiEnv) -> None:\n",
    "    print(\"Grid world representation:\")\n",
    "    rendering_functions.render(environment_instance.desc.tolist(), environment_instance.state,\n",
    "                              environment_instance.num_taxis, environment_instance.collided,\n",
    "                              environment_instance.last_action, environment_instance.action_index_dictionary,\n",
    "                              environment_instance.dones)\n",
    "    print(\"Image world representation:\")\n",
    "    img = rendering_functions.map2rgb(environment_instance.state, environment_instance.desc.astype(str))\n",
    "    plt.imshow(img)\n",
    "    plt.show()"
   ]
  },
  {
   "cell_type": "code",
   "execution_count": 5,
   "metadata": {},
   "outputs": [],
   "source": [
    "domain_instance = TaxiEnv(num_taxis=1)"
   ]
  },
  {
   "cell_type": "code",
   "execution_count": 6,
   "metadata": {},
   "outputs": [
    {
     "name": "stdout",
     "output_type": "stream",
     "text": [
      "Grid world representation:\n",
      "+---------+\n",
      "| : : : : |\n",
      "| : : : : |\n",
      "| : : :\u001b[43m_\u001b[0m: |\n",
      "| : : :\u001b[34;1m \u001b[0m: |\n",
      "| :\u001b[35m \u001b[0m: : : |\n",
      "+---------+\n",
      "Taxi1-YELLOW: Fuel: 0, Location: (2,3), Collided: False\n",
      "Passenger1: Location: (3, 3), Destination: (4, 1)\n",
      "Done: False, {'taxi_1': False, '__all__': False}\n",
      "Passengers Status's: [2]\n",
      "Image world representation:\n"
     ]
    },
    {
     "data": {
      "image/png": "[encoded data removed]",
      "text/plain": [
       "<Figure size 432x288 with 1 Axes>"
      ]
     },
     "metadata": {
      "needs_background": "light"
     },
     "output_type": "display_data"
    }
   ],
   "source": [
    "snapshot_environment(domain_instance)"
   ]
  },
  {
   "cell_type": "code",
   "execution_count": 7,
   "metadata": {},
   "outputs": [],
   "source": [
    "def get_action_ditionary_from_list(action_index_dict: dict, agent_names: list, action_list: list) -> dict:\n",
    "    action_dict = {}\n",
    "    for i, name in enumerate(agent_names):\n",
    "        action_dict[name] = action_index_dict[action_list[i]]\n",
    "    \n",
    "    return action_dict"
   ]
  },
  {
   "cell_type": "code",
   "execution_count": 8,
   "metadata": {},
   "outputs": [
    {
     "name": "stdout",
     "output_type": "stream",
     "text": [
      "Legal actions are:\n",
      " ['south', 'north', 'east', 'west', 'pickup', 'dropoff0']\n"
     ]
    }
   ],
   "source": [
    "print(\"Legal actions are:\\n\", list(domain_instance.action_index_dictionary.keys()))"
   ]
  },
  {
   "cell_type": "code",
   "execution_count": 9,
   "metadata": {},
   "outputs": [],
   "source": [
    "dict_to_perform = get_action_ditionary_from_list(domain_instance.action_index_dictionary, \n",
    "                                                 domain_instance.taxis_names,\n",
    "                                                 ['north'] * 5)"
   ]
  },
  {
   "cell_type": "code",
   "execution_count": 10,
   "metadata": {},
   "outputs": [],
   "source": [
    "observations, rewards, dones, _ = domain_instance.step(dict_to_perform)"
   ]
  },
  {
   "cell_type": "code",
   "execution_count": 11,
   "metadata": {},
   "outputs": [
    {
     "name": "stdout",
     "output_type": "stream",
     "text": [
      "Grid world representation:\n",
      "+---------+\n",
      "| : : : : |\n",
      "| : : :\u001b[43m_\u001b[0m: |\n",
      "| : : : : |\n",
      "| : : :\u001b[34;1m \u001b[0m: |\n",
      "| :\u001b[35m \u001b[0m: : : |\n",
      "+---------+\n",
      "  (north)\n",
      "Taxi1-YELLOW: Fuel: 0, Location: (1,3), Collided: False\n",
      "Passenger1: Location: (3, 3), Destination: (4, 1)\n",
      "Done: False, {'taxi_1': False, '__all__': False}\n",
      "Passengers Status's: [2]\n",
      "Image world representation:\n"
     ]
    },
    {
     "data": {
      "image/png": "[encoded data removed]",
      "text/plain": [
       "<Figure size 432x288 with 1 Axes>"
      ]
     },
     "metadata": {
      "needs_background": "light"
     },
     "output_type": "display_data"
    }
   ],
   "source": [
    "snapshot_environment(domain_instance)"
   ]
  },
  {
   "cell_type": "code",
   "execution_count": 17,
   "metadata": {},
   "outputs": [
    {
     "data": {
      "image/png": "[encoded data removed]",
      "text/plain": [
       "<Figure size 432x288 with 1 Axes>"
      ]
     },
     "metadata": {
      "needs_background": "light"
     },
     "output_type": "display_data"
    }
   ],
   "source": [
    "import numpy as np\n",
    "\n",
    "plt.imshow(observations['taxi_1'][0].astype(np.uint8))\n",
    "plt.show()"
   ]
  },
  {
   "cell_type": "code",
   "execution_count": 15,
   "metadata": {},
   "outputs": [
    {
     "data": {
      "text/plain": [
       "(3, 3, 3)"
      ]
     },
     "execution_count": 15,
     "metadata": {},
     "output_type": "execute_result"
    }
   ],
   "source": [
    "observations['taxi_1'][0].shape"
   ]
  },
  {
   "cell_type": "code",
   "execution_count": 13,
   "metadata": {},
   "outputs": [],
   "source": [
    "def observation_snapshot(observations: dict) -> None:\n",
    "    num_of_observations = len(list(observations.keys()))\n",
    "    fig, axs = plt.subplots(1, num_of_observations)\n",
    "    for i, name in enumerate(list(observations.keys())):\n",
    "        axs[i].imshow(observations[name][0])\n",
    "        axs[i].title.set_text(f'{name}')\n",
    "    plt.show()\n",
    "    \n",
    "    for name in list(observations.keys()):\n",
    "        print(name+': ', (observations[name][1]))\n"
   ]
  },
  {
   "cell_type": "code",
   "execution_count": 14,
   "metadata": {},
   "outputs": [
    {
     "name": "stdout",
     "output_type": "stream",
     "text": [
      "Grid world representation:\n",
      "+---------+\n",
      "| : : : : |\n",
      "| : :\u001b[43m_\u001b[0m: : |\n",
      "| : : : : |\n",
      "| : : :\u001b[34;1m \u001b[0m: |\n",
      "| :\u001b[35m \u001b[0m: : : |\n",
      "+---------+\n",
      "  (west)\n",
      "Taxi1-YELLOW: Fuel: 0, Location: (1,2), Collided: False\n",
      "Passenger1: Location: (3, 3), Destination: (4, 1)\n",
      "Done: False, {'taxi_1': False, '__all__': False}\n",
      "Passengers Status's: [2]\n",
      "Image world representation:\n"
     ]
    },
    {
     "data": {
      "image/png": "[encoded data removed]",
      "text/plain": [
       "<Figure size 432x288 with 1 Axes>"
      ]
     },
     "metadata": {
      "needs_background": "light"
     },
     "output_type": "display_data"
    },
    {
     "ename": "TypeError",
     "evalue": "'AxesSubplot' object is not subscriptable",
     "output_type": "error",
     "traceback": [
      "\u001b[0;31m---------------------------------------------------------------------------\u001b[0m",
      "\u001b[0;31mTypeError\u001b[0m                                 Traceback (most recent call last)",
      "\u001b[0;32m<ipython-input-14-9bac47ef0b63>\u001b[0m in \u001b[0;36m<module>\u001b[0;34m\u001b[0m\n\u001b[1;32m      5\u001b[0m \u001b[0mobservations\u001b[0m\u001b[0;34m,\u001b[0m \u001b[0mrewards\u001b[0m\u001b[0;34m,\u001b[0m \u001b[0mdones\u001b[0m\u001b[0;34m,\u001b[0m \u001b[0m_\u001b[0m \u001b[0;34m=\u001b[0m \u001b[0mdomain_instance\u001b[0m\u001b[0;34m.\u001b[0m\u001b[0mstep\u001b[0m\u001b[0;34m(\u001b[0m\u001b[0mdict_to_perform\u001b[0m\u001b[0;34m)\u001b[0m\u001b[0;34m\u001b[0m\u001b[0;34m\u001b[0m\u001b[0m\n\u001b[1;32m      6\u001b[0m \u001b[0msnapshot_environment\u001b[0m\u001b[0;34m(\u001b[0m\u001b[0mdomain_instance\u001b[0m\u001b[0;34m)\u001b[0m\u001b[0;34m\u001b[0m\u001b[0;34m\u001b[0m\u001b[0m\n\u001b[0;32m----> 7\u001b[0;31m \u001b[0mobservation_snapshot\u001b[0m\u001b[0;34m(\u001b[0m\u001b[0mobservations\u001b[0m\u001b[0;34m)\u001b[0m\u001b[0;34m\u001b[0m\u001b[0;34m\u001b[0m\u001b[0m\n\u001b[0m",
      "\u001b[0;32m<ipython-input-13-9c8c050e80cb>\u001b[0m in \u001b[0;36mobservation_snapshot\u001b[0;34m(observations)\u001b[0m\n\u001b[1;32m      3\u001b[0m     \u001b[0mfig\u001b[0m\u001b[0;34m,\u001b[0m \u001b[0maxs\u001b[0m \u001b[0;34m=\u001b[0m \u001b[0mplt\u001b[0m\u001b[0;34m.\u001b[0m\u001b[0msubplots\u001b[0m\u001b[0;34m(\u001b[0m\u001b[0;36m1\u001b[0m\u001b[0;34m,\u001b[0m \u001b[0mnum_of_observations\u001b[0m\u001b[0;34m)\u001b[0m\u001b[0;34m\u001b[0m\u001b[0;34m\u001b[0m\u001b[0m\n\u001b[1;32m      4\u001b[0m     \u001b[0;32mfor\u001b[0m \u001b[0mi\u001b[0m\u001b[0;34m,\u001b[0m \u001b[0mname\u001b[0m \u001b[0;32min\u001b[0m \u001b[0menumerate\u001b[0m\u001b[0;34m(\u001b[0m\u001b[0mlist\u001b[0m\u001b[0;34m(\u001b[0m\u001b[0mobservations\u001b[0m\u001b[0;34m.\u001b[0m\u001b[0mkeys\u001b[0m\u001b[0;34m(\u001b[0m\u001b[0;34m)\u001b[0m\u001b[0;34m)\u001b[0m\u001b[0;34m)\u001b[0m\u001b[0;34m:\u001b[0m\u001b[0;34m\u001b[0m\u001b[0;34m\u001b[0m\u001b[0m\n\u001b[0;32m----> 5\u001b[0;31m         \u001b[0maxs\u001b[0m\u001b[0;34m[\u001b[0m\u001b[0mi\u001b[0m\u001b[0;34m]\u001b[0m\u001b[0;34m.\u001b[0m\u001b[0mimshow\u001b[0m\u001b[0;34m(\u001b[0m\u001b[0mobservations\u001b[0m\u001b[0;34m[\u001b[0m\u001b[0mname\u001b[0m\u001b[0;34m]\u001b[0m\u001b[0;34m[\u001b[0m\u001b[0;36m0\u001b[0m\u001b[0;34m]\u001b[0m\u001b[0;34m)\u001b[0m\u001b[0;34m\u001b[0m\u001b[0;34m\u001b[0m\u001b[0m\n\u001b[0m\u001b[1;32m      6\u001b[0m         \u001b[0maxs\u001b[0m\u001b[0;34m[\u001b[0m\u001b[0mi\u001b[0m\u001b[0;34m]\u001b[0m\u001b[0;34m.\u001b[0m\u001b[0mtitle\u001b[0m\u001b[0;34m.\u001b[0m\u001b[0mset_text\u001b[0m\u001b[0;34m(\u001b[0m\u001b[0;34mf'{name}'\u001b[0m\u001b[0;34m)\u001b[0m\u001b[0;34m\u001b[0m\u001b[0;34m\u001b[0m\u001b[0m\n\u001b[1;32m      7\u001b[0m     \u001b[0mplt\u001b[0m\u001b[0;34m.\u001b[0m\u001b[0mshow\u001b[0m\u001b[0;34m(\u001b[0m\u001b[0;34m)\u001b[0m\u001b[0;34m\u001b[0m\u001b[0;34m\u001b[0m\u001b[0m\n",
      "\u001b[0;31mTypeError\u001b[0m: 'AxesSubplot' object is not subscriptable"
     ]
    },
    {
     "data": {
      "image/png": "[encoded data removed]",
      "text/plain": [
       "<Figure size 432x288 with 1 Axes>"
      ]
     },
     "metadata": {
      "needs_background": "light"
     },
     "output_type": "display_data"
    }
   ],
   "source": [
    "actions_to_perform = ['west']\n",
    "dict_to_perform = get_action_ditionary_from_list(domain_instance.action_index_dictionary, \n",
    "                                                 domain_instance.taxis_names, actions_to_perform)\n",
    "\n",
    "observations, rewards, dones, _ = domain_instance.step(dict_to_perform)\n",
    "snapshot_environment(domain_instance)\n",
    "observation_snapshot(observations)\n"
   ]
  },
  {
   "cell_type": "code",
   "execution_count": null,
   "metadata": {},
   "outputs": [],
   "source": [
    "domain_instance.step({'taxi_1': 3})"
   ]
  }
 ],
 "metadata": {
  "kernelspec": {
   "display_name": "Python 3 (ipykernel)",
   "language": "python",
   "name": "python3"
  },
  "language_info": {
   "codemirror_mode": {
    "name": "ipython",
    "version": 3
   },
   "file_extension": ".py",
   "mimetype": "text/x-python",
   "name": "python",
   "nbconvert_exporter": "python",
   "pygments_lexer": "ipython3",
   "version": "3.7.7"
  }
 },
 "nbformat": 4,
 "nbformat_minor": 4
}
